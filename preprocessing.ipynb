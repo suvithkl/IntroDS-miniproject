{
 "cells": [
  {
   "cell_type": "markdown",
   "metadata": {},
   "source": [
    "PREPROCESSING OF STRING DATA"
   ]
  },
  {
   "cell_type": "code",
   "execution_count": 1,
   "metadata": {},
   "outputs": [],
   "source": [
    "# SOS\n",
    "# NEVER FUCKING RUN THIS CELL AGAIN\n",
    "\n",
    "import tarfile\n",
    "\n",
    "# unzipping into json\n",
    "path = 'C:/Users/suvit/OneDrive - University of Helsinki/Documents/IntroDS/yelp_dataset.tar' # when running, change to own local path\n",
    "tar = tarfile.open(path, 'r')\n",
    "data = tar.extractall('yelp_dataset')\n",
    "tar.close()\n",
    "\n",
    "# SERIOUSLY DON'T RUN THIS"
   ]
  },
  {
   "cell_type": "code",
   "execution_count": 2,
   "metadata": {},
   "outputs": [],
   "source": [
    "# saving into datasets - business\n",
    "\n",
    "import pandas as pd\n",
    "\n",
    "business_all = pd.read_json('yelp_dataset/yelp_academic_dataset_business.json', lines=True)"
   ]
  },
  {
   "cell_type": "code",
   "execution_count": 3,
   "metadata": {},
   "outputs": [],
   "source": [
    "# UBER SOS\n",
    "# NOW THIS ONE, NEVER, _NEVER_, RUN THIS ON YOUR OWN DEVICE\n",
    "# YOU WILL FUCK IT UP\n",
    "\n",
    "# saving into datasets - review\n",
    "\n",
    "import pandas as pd\n",
    "\n",
    "review_all = pd.read_json('yelp_dataset/yelp_academic_dataset_review.json', lines=True)\n",
    "\n",
    "# I MEAN IT, DON'T DO IT"
   ]
  },
  {
   "cell_type": "code",
   "execution_count": 4,
   "metadata": {},
   "outputs": [],
   "source": [
    "# saving into datasets - tip\n",
    "\n",
    "import pandas as pd\n",
    "\n",
    "tip_all = pd.read_json('yelp_dataset/yelp_academic_dataset_tip.json', lines=True)"
   ]
  },
  {
   "cell_type": "code",
   "execution_count": 7,
   "metadata": {},
   "outputs": [],
   "source": [
    "# sizing down datasets\n",
    "\n",
    "import pandas as pd\n",
    "\n",
    "# business: business_id, name, city, latitude, longitude, stars, is_open, attributes, categories\n",
    "business = business_all.drop(['address', 'state', 'postal_code', 'review_count', 'hours'], axis=1)\n",
    "\n",
    "# review: business_id, stars, text, useful\n",
    "review = review_all.drop(['review_id', 'user_id', 'date', 'funny', 'cool'], axis=1)\n",
    "\n",
    "# tip: text, compliment_count, business_id\n",
    "tip = tip_all.drop(['date', 'user_id'], axis=1)"
   ]
  },
  {
   "cell_type": "code",
   "execution_count": 18,
   "metadata": {},
   "outputs": [],
   "source": [
    "# downcasing\n",
    "\n",
    "import string\n",
    "\n",
    "review['text'] = review['text'].str.lower()\n",
    "tip['text'] = tip['text'].str.lower()"
   ]
  },
  {
   "cell_type": "code",
   "execution_count": 48,
   "metadata": {},
   "outputs": [],
   "source": [
    "# remove punctuation\n",
    "\n",
    "import re\n",
    "\n",
    "review['text'] = [re.sub(r'[^\\w\\s]', '', x) for x in review['text']]\n",
    "tip['text'] = [re.sub(r'[^\\w\\s]', '', x) for x in tip['text']]"
   ]
  },
  {
   "cell_type": "code",
   "execution_count": 95,
   "metadata": {},
   "outputs": [
    {
     "ename": "KeyboardInterrupt",
     "evalue": "",
     "output_type": "error",
     "traceback": [
      "\u001b[1;31m---------------------------------------------------------------------------\u001b[0m",
      "\u001b[1;31mKeyboardInterrupt\u001b[0m                         Traceback (most recent call last)",
      "\u001b[1;32mc:\\Users\\suvit\\Downloads\\IntroDS-miniproject\\preprocessing.ipynb Cell 9\u001b[0m in \u001b[0;36m<cell line: 7>\u001b[1;34m()\u001b[0m\n\u001b[0;32m      <a href='vscode-notebook-cell:/c%3A/Users/suvit/Downloads/IntroDS-miniproject/preprocessing.ipynb#X11sZmlsZQ%3D%3D?line=3'>4</a>\u001b[0m \u001b[39mwith\u001b[39;00m \u001b[39mopen\u001b[39m(path) \u001b[39mas\u001b[39;00m f: \u001b[39m# when running, change to own local path\u001b[39;00m\n\u001b[0;32m      <a href='vscode-notebook-cell:/c%3A/Users/suvit/Downloads/IntroDS-miniproject/preprocessing.ipynb#X11sZmlsZQ%3D%3D?line=4'>5</a>\u001b[0m     stopwords \u001b[39m=\u001b[39m \u001b[39mlist\u001b[39m(f\u001b[39m.\u001b[39mread()\u001b[39m.\u001b[39msplitlines())\n\u001b[1;32m----> <a href='vscode-notebook-cell:/c%3A/Users/suvit/Downloads/IntroDS-miniproject/preprocessing.ipynb#X11sZmlsZQ%3D%3D?line=6'>7</a>\u001b[0m review[\u001b[39m'\u001b[39m\u001b[39mtext\u001b[39m\u001b[39m'\u001b[39m] \u001b[39m=\u001b[39m [\u001b[39m'\u001b[39m\u001b[39m \u001b[39m\u001b[39m'\u001b[39m\u001b[39m.\u001b[39mjoin(((\u001b[39m'\u001b[39m\u001b[39m \u001b[39m\u001b[39m'\u001b[39m)\u001b[39m.\u001b[39mjoin([word \u001b[39mfor\u001b[39;00m word \u001b[39min\u001b[39;00m x\u001b[39m.\u001b[39msplit(\u001b[39m'\u001b[39m\u001b[39m \u001b[39m\u001b[39m'\u001b[39m) \u001b[39mif\u001b[39;00m \u001b[39mnot\u001b[39;00m word \u001b[39min\u001b[39;00m stopwords]))\u001b[39m.\u001b[39msplit()) \u001b[39mfor\u001b[39;00m x \u001b[39min\u001b[39;00m review[\u001b[39m'\u001b[39m\u001b[39mtext\u001b[39m\u001b[39m'\u001b[39m]]\n\u001b[0;32m      <a href='vscode-notebook-cell:/c%3A/Users/suvit/Downloads/IntroDS-miniproject/preprocessing.ipynb#X11sZmlsZQ%3D%3D?line=7'>8</a>\u001b[0m tip[\u001b[39m'\u001b[39m\u001b[39mtext\u001b[39m\u001b[39m'\u001b[39m] \u001b[39m=\u001b[39m [\u001b[39m'\u001b[39m\u001b[39m \u001b[39m\u001b[39m'\u001b[39m\u001b[39m.\u001b[39mjoin(((\u001b[39m'\u001b[39m\u001b[39m \u001b[39m\u001b[39m'\u001b[39m)\u001b[39m.\u001b[39mjoin([word \u001b[39mfor\u001b[39;00m word \u001b[39min\u001b[39;00m x\u001b[39m.\u001b[39msplit(\u001b[39m'\u001b[39m\u001b[39m \u001b[39m\u001b[39m'\u001b[39m) \u001b[39mif\u001b[39;00m \u001b[39mnot\u001b[39;00m word \u001b[39min\u001b[39;00m stopwords]))\u001b[39m.\u001b[39msplit()) \u001b[39mfor\u001b[39;00m x \u001b[39min\u001b[39;00m tip[\u001b[39m'\u001b[39m\u001b[39mtext\u001b[39m\u001b[39m'\u001b[39m]]\n",
      "\u001b[1;32mc:\\Users\\suvit\\Downloads\\IntroDS-miniproject\\preprocessing.ipynb Cell 9\u001b[0m in \u001b[0;36m<listcomp>\u001b[1;34m(.0)\u001b[0m\n\u001b[0;32m      <a href='vscode-notebook-cell:/c%3A/Users/suvit/Downloads/IntroDS-miniproject/preprocessing.ipynb#X11sZmlsZQ%3D%3D?line=3'>4</a>\u001b[0m \u001b[39mwith\u001b[39;00m \u001b[39mopen\u001b[39m(path) \u001b[39mas\u001b[39;00m f: \u001b[39m# when running, change to own local path\u001b[39;00m\n\u001b[0;32m      <a href='vscode-notebook-cell:/c%3A/Users/suvit/Downloads/IntroDS-miniproject/preprocessing.ipynb#X11sZmlsZQ%3D%3D?line=4'>5</a>\u001b[0m     stopwords \u001b[39m=\u001b[39m \u001b[39mlist\u001b[39m(f\u001b[39m.\u001b[39mread()\u001b[39m.\u001b[39msplitlines())\n\u001b[1;32m----> <a href='vscode-notebook-cell:/c%3A/Users/suvit/Downloads/IntroDS-miniproject/preprocessing.ipynb#X11sZmlsZQ%3D%3D?line=6'>7</a>\u001b[0m review[\u001b[39m'\u001b[39m\u001b[39mtext\u001b[39m\u001b[39m'\u001b[39m] \u001b[39m=\u001b[39m [\u001b[39m'\u001b[39m\u001b[39m \u001b[39m\u001b[39m'\u001b[39m\u001b[39m.\u001b[39mjoin(((\u001b[39m'\u001b[39m\u001b[39m \u001b[39m\u001b[39m'\u001b[39m)\u001b[39m.\u001b[39mjoin([word \u001b[39mfor\u001b[39;00m word \u001b[39min\u001b[39;00m x\u001b[39m.\u001b[39msplit(\u001b[39m'\u001b[39m\u001b[39m \u001b[39m\u001b[39m'\u001b[39m) \u001b[39mif\u001b[39;00m \u001b[39mnot\u001b[39;00m word \u001b[39min\u001b[39;00m stopwords]))\u001b[39m.\u001b[39msplit()) \u001b[39mfor\u001b[39;00m x \u001b[39min\u001b[39;00m review[\u001b[39m'\u001b[39m\u001b[39mtext\u001b[39m\u001b[39m'\u001b[39m]]\n\u001b[0;32m      <a href='vscode-notebook-cell:/c%3A/Users/suvit/Downloads/IntroDS-miniproject/preprocessing.ipynb#X11sZmlsZQ%3D%3D?line=7'>8</a>\u001b[0m tip[\u001b[39m'\u001b[39m\u001b[39mtext\u001b[39m\u001b[39m'\u001b[39m] \u001b[39m=\u001b[39m [\u001b[39m'\u001b[39m\u001b[39m \u001b[39m\u001b[39m'\u001b[39m\u001b[39m.\u001b[39mjoin(((\u001b[39m'\u001b[39m\u001b[39m \u001b[39m\u001b[39m'\u001b[39m)\u001b[39m.\u001b[39mjoin([word \u001b[39mfor\u001b[39;00m word \u001b[39min\u001b[39;00m x\u001b[39m.\u001b[39msplit(\u001b[39m'\u001b[39m\u001b[39m \u001b[39m\u001b[39m'\u001b[39m) \u001b[39mif\u001b[39;00m \u001b[39mnot\u001b[39;00m word \u001b[39min\u001b[39;00m stopwords]))\u001b[39m.\u001b[39msplit()) \u001b[39mfor\u001b[39;00m x \u001b[39min\u001b[39;00m tip[\u001b[39m'\u001b[39m\u001b[39mtext\u001b[39m\u001b[39m'\u001b[39m]]\n",
      "\u001b[1;32mc:\\Users\\suvit\\Downloads\\IntroDS-miniproject\\preprocessing.ipynb Cell 9\u001b[0m in \u001b[0;36m<listcomp>\u001b[1;34m(.0)\u001b[0m\n\u001b[0;32m      <a href='vscode-notebook-cell:/c%3A/Users/suvit/Downloads/IntroDS-miniproject/preprocessing.ipynb#X11sZmlsZQ%3D%3D?line=3'>4</a>\u001b[0m \u001b[39mwith\u001b[39;00m \u001b[39mopen\u001b[39m(path) \u001b[39mas\u001b[39;00m f: \u001b[39m# when running, change to own local path\u001b[39;00m\n\u001b[0;32m      <a href='vscode-notebook-cell:/c%3A/Users/suvit/Downloads/IntroDS-miniproject/preprocessing.ipynb#X11sZmlsZQ%3D%3D?line=4'>5</a>\u001b[0m     stopwords \u001b[39m=\u001b[39m \u001b[39mlist\u001b[39m(f\u001b[39m.\u001b[39mread()\u001b[39m.\u001b[39msplitlines())\n\u001b[1;32m----> <a href='vscode-notebook-cell:/c%3A/Users/suvit/Downloads/IntroDS-miniproject/preprocessing.ipynb#X11sZmlsZQ%3D%3D?line=6'>7</a>\u001b[0m review[\u001b[39m'\u001b[39m\u001b[39mtext\u001b[39m\u001b[39m'\u001b[39m] \u001b[39m=\u001b[39m [\u001b[39m'\u001b[39m\u001b[39m \u001b[39m\u001b[39m'\u001b[39m\u001b[39m.\u001b[39mjoin(((\u001b[39m'\u001b[39m\u001b[39m \u001b[39m\u001b[39m'\u001b[39m)\u001b[39m.\u001b[39mjoin([word \u001b[39mfor\u001b[39;00m word \u001b[39min\u001b[39;00m x\u001b[39m.\u001b[39msplit(\u001b[39m'\u001b[39m\u001b[39m \u001b[39m\u001b[39m'\u001b[39m) \u001b[39mif\u001b[39;00m \u001b[39mnot\u001b[39;00m word \u001b[39min\u001b[39;00m stopwords]))\u001b[39m.\u001b[39msplit()) \u001b[39mfor\u001b[39;00m x \u001b[39min\u001b[39;00m review[\u001b[39m'\u001b[39m\u001b[39mtext\u001b[39m\u001b[39m'\u001b[39m]]\n\u001b[0;32m      <a href='vscode-notebook-cell:/c%3A/Users/suvit/Downloads/IntroDS-miniproject/preprocessing.ipynb#X11sZmlsZQ%3D%3D?line=7'>8</a>\u001b[0m tip[\u001b[39m'\u001b[39m\u001b[39mtext\u001b[39m\u001b[39m'\u001b[39m] \u001b[39m=\u001b[39m [\u001b[39m'\u001b[39m\u001b[39m \u001b[39m\u001b[39m'\u001b[39m\u001b[39m.\u001b[39mjoin(((\u001b[39m'\u001b[39m\u001b[39m \u001b[39m\u001b[39m'\u001b[39m)\u001b[39m.\u001b[39mjoin([word \u001b[39mfor\u001b[39;00m word \u001b[39min\u001b[39;00m x\u001b[39m.\u001b[39msplit(\u001b[39m'\u001b[39m\u001b[39m \u001b[39m\u001b[39m'\u001b[39m) \u001b[39mif\u001b[39;00m \u001b[39mnot\u001b[39;00m word \u001b[39min\u001b[39;00m stopwords]))\u001b[39m.\u001b[39msplit()) \u001b[39mfor\u001b[39;00m x \u001b[39min\u001b[39;00m tip[\u001b[39m'\u001b[39m\u001b[39mtext\u001b[39m\u001b[39m'\u001b[39m]]\n",
      "\u001b[1;31mKeyboardInterrupt\u001b[0m: "
     ]
    }
   ],
   "source": [
    "# remove stop-words and extra whitespace\n",
    "\n",
    "path = 'C:/Users/suvit/OneDrive - University of Helsinki/Documents/IntroDS/stopwords_en.txt'\n",
    "with open(path) as f: # when running, change to own local path\n",
    "    stopwords = list(f.read().splitlines())\n",
    "\n",
    "review['text'] = [' '.join(((' ').join([word for word in x.split(' ') if not word in stopwords])).split()) for x in review['text']]\n",
    "tip['text'] = [' '.join(((' ').join([word for word in x.split(' ') if not word in stopwords])).split()) for x in tip['text']]\n",
    "\n",
    "# in case of errors:\n",
    "# 1. try changing the outermost brackets after the equals-symbol into regular parentheses\n",
    "# 2. try the old simple version below\n",
    "# 3. cry\n",
    "# 4. mark down if any of these helped\n",
    "\n",
    "#review['text'] = review['text'].apply(lambda x: (' ').join([word for word in str(x).split() if word not in (stopwords)]))\n",
    "#tip['text'] = tip['text'].apply(lambda x: (' ').join([word for word in str(x).split() if word not in (stopwords)]))"
   ]
  },
  {
   "cell_type": "code",
   "execution_count": null,
   "metadata": {},
   "outputs": [],
   "source": [
    "# stemming\n",
    "\n",
    "from nltk.stem.snowball import SnowballStemmer\n",
    "\n",
    "ss = SnowballStemmer(language='english')\n",
    "review['text'] = review['text'].apply(lambda x: (' ').join([ss.stem(word) for word in str(x).split()]))\n",
    "tip['text'] = tip['text'].apply(lambda x: (' ').join([ss.stem(word) for word in str(x).split()]))\n",
    "\n",
    "# option 2 in case of errors:\n",
    "#review['text'] = [(' ').join([ss.stem(y) for y in x.split(' ')]) for x in review['text']]\n",
    "#tip['text'] = [(' ').join([ss.stem(y) for y in x.split(' ')]) for x in tip['text']]"
   ]
  },
  {
   "cell_type": "code",
   "execution_count": null,
   "metadata": {},
   "outputs": [],
   "source": [
    "# saving preprocessed data into json files\n",
    "\n",
    "# dividing into positive and negative reviews\n",
    "review_pos = review.loc[review['stars'] > 3]\n",
    "review_neg = review.loc[review['stars'] <= 3]\n",
    "\n",
    "with open('business.json', 'w') as f:\n",
    "    f.write(business.to_json(orient=\"records\"))\n",
    "\n",
    "with open('review_pos.json', 'w') as f:\n",
    "    f.write(review_pos.to_json(orient=\"records\"))\n",
    "\n",
    "with open('review_neg.json', 'w') as f:\n",
    "    f.write(review_neg.to_json(orient=\"records\"))\n",
    "\n",
    "with open('tip.json', 'w') as f:\n",
    "    f.write(tip.to_json(orient=\"records\"))"
   ]
  }
 ],
 "metadata": {
  "kernelspec": {
   "display_name": "Python 3.9.12 ('base')",
   "language": "python",
   "name": "python3"
  },
  "language_info": {
   "codemirror_mode": {
    "name": "ipython",
    "version": 3
   },
   "file_extension": ".py",
   "mimetype": "text/x-python",
   "name": "python",
   "nbconvert_exporter": "python",
   "pygments_lexer": "ipython3",
   "version": "3.9.12"
  },
  "orig_nbformat": 4,
  "vscode": {
   "interpreter": {
    "hash": "d58ea69fd4be483072a57c0f3d43c49afe88d95673704247309f5e6f4d8a2dae"
   }
  }
 },
 "nbformat": 4,
 "nbformat_minor": 2
}
