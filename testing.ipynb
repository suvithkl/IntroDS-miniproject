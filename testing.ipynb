{
 "cells": [
  {
   "cell_type": "code",
<<<<<<< HEAD
=======
   "execution_count": 1,
   "metadata": {},
   "outputs": [
    {
     "data": {
      "text/plain": [
       "16"
      ]
     },
     "execution_count": 1,
     "metadata": {},
     "output_type": "execute_result"
    }
   ],
   "source": [
    "8 + 8"
   ]
  },
  {
   "cell_type": "code",
>>>>>>> 627115acf0ebcd3d0dad923befad0d0c32cdd790
   "execution_count": null,
   "metadata": {},
   "outputs": [],
   "source": []
  }
 ],
 "metadata": {
  "kernelspec": {
<<<<<<< HEAD
   "display_name": "Python 3.8.3 32-bit",
=======
   "display_name": "Python 3.10.7 64-bit",
>>>>>>> 627115acf0ebcd3d0dad923befad0d0c32cdd790
   "language": "python",
   "name": "python3"
  },
  "language_info": {
<<<<<<< HEAD
   "name": "python",
   "version": "3.8.3"
=======
   "codemirror_mode": {
    "name": "ipython",
    "version": 3
   },
   "file_extension": ".py",
   "mimetype": "text/x-python",
   "name": "python",
   "nbconvert_exporter": "python",
   "pygments_lexer": "ipython3",
   "version": "3.10.7"
>>>>>>> 627115acf0ebcd3d0dad923befad0d0c32cdd790
  },
  "orig_nbformat": 4,
  "vscode": {
   "interpreter": {
<<<<<<< HEAD
    "hash": "a51112372cff4f261b21d4c94c3e1888f225e70a0da96f06315613441f839b49"
=======
    "hash": "5eaf080904870a734a8c470db59db8d88366d38f57113f33fe3e9af6faba0185"
>>>>>>> 627115acf0ebcd3d0dad923befad0d0c32cdd790
   }
  }
 },
 "nbformat": 4,
 "nbformat_minor": 2
}
