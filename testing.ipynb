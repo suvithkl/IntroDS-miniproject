{
 "cells": [
  {
   "cell_type": "markdown",
   "metadata": {},
   "source": [
    "ALL SORTS OF LITTLE TESTS"
   ]
  },
  {
   "cell_type": "code",
   "execution_count": 2,
   "metadata": {},
   "outputs": [],
   "source": [
    "import pandas as pd\n",
    "\n",
    "df = pd.read_json('files/business.json')\n",
    "cat = (' '.join(df['categories'].dropna()))"
   ]
  },
  {
   "cell_type": "code",
   "execution_count": 3,
   "metadata": {},
   "outputs": [
    {
     "data": {
      "text/plain": [
       "array(['3d', 'abatement', 'acai', ..., 'yourself', 'ziplining', 'zoos'],\n",
       "      dtype=object)"
      ]
     },
     "execution_count": 3,
     "metadata": {},
     "output_type": "execute_result"
    }
   ],
   "source": [
    "from sklearn.feature_extraction.text import TfidfVectorizer\n",
    "\n",
    "corpus = [cat]\n",
    "vectorizer = TfidfVectorizer()\n",
    "x = vectorizer.fit_transform(corpus)\n",
    "vectorizer.get_feature_names_out()"
   ]
  },
  {
   "cell_type": "code",
   "execution_count": 6,
   "metadata": {},
   "outputs": [
    {
     "name": "stdout",
     "output_type": "stream",
     "text": [
      "<zip object at 0x0000015BE8EEC480>\n"
     ]
    }
   ],
   "source": [
    "import numpy as np\n",
    "\n",
    "n = len(cat)\n",
    "\n",
    "i = np.flip(np.argsort(x[0, :].A)[0][-n:])\n",
    "scores = np.flip(np.sort(x[0, :].A)[0][-n:])\n",
    "words = vectorizer.get_feature_names_out()[i]"
   ]
  },
  {
   "cell_type": "code",
   "execution_count": 18,
   "metadata": {},
   "outputs": [
    {
     "name": "stdout",
     "output_type": "stream",
     "text": [
      "pet\n",
      "pets\n",
      "veterinarians\n",
      "carpet\n",
      "carpeting\n",
      "competitions\n",
      "petting\n",
      "veterans\n"
     ]
    }
   ],
   "source": [
    "for x in words:\n",
    "    if \"pet\" in x:\n",
    "        print(x)\n",
    "    elif \"vet\" in x:\n",
    "        print(x)"
   ]
  },
  {
   "cell_type": "code",
   "execution_count": 13,
   "metadata": {},
   "outputs": [
    {
     "name": "stdout",
     "output_type": "stream",
     "text": [
      "['yoga' 'insurance' 'creole' 'cajun' 'wear' 'store' 'mex' 'tex'\n",
      " 'detailing' 'landscaping' 'bar' 'nurseries' 'gardening' 'design'\n",
      " 'management' 'discount' 'breweries' 'training' 'vegan' 'vietnamese' 'law'\n",
      " 'alterations' 'sewing' 'indian' 'shipping' 'medicine' 'self' 'latin'\n",
      " 'storage' 'gift' 'kitchen' 'hardware' 'galleries' 'free' 'greek' 'gluten'\n",
      " 'golf' 'dance' 'dogs' 'bath' 'banks' 'property' 'water' 'consignment'\n",
      " 'vintage' 'oral' 'unions' 'credit' 'comfort' 'wedding' 'bagels'\n",
      " 'chiropractors' 'providers' 'endodontists' 'tattoo' 'gear' 'office'\n",
      " 'towing' 'tobacco' 'ethnic' 'tapas' 'middle' 'carpet' 'orthodontists'\n",
      " 'dive' 'diagnostic' 'transmission' 'family' 'antiques' 'laser' 'bike'\n",
      " 'mattresses' 'extensions' 'agents' 'buffets' 'flooring' 'window'\n",
      " 'cheesesteaks' 'thrift' 'camps' 'control' 'caribbean' 'eastern'\n",
      " 'performing' 'physical' 'tree' 'tub' 'heater' 'bridal' 'hobby' 'meat'\n",
      " 'motorcycle' 'center' 'urgent' 'soul' 'community' 'veggies' 'fruits'\n",
      " 'pediatric' 'toy' 'notaries' 'gastropubs' 'interior' 'photographers'\n",
      " 'pest' 'pharmacy' 'activities' 'french' 'profit' 'non' 'practice'\n",
      " 'internet' 'loss' 'market' 'farmers' 'korean' 'electricians' 'mortgage'\n",
      " 'museums' 'personal' 'outdoor' 'bubble' 'vape' 'roofing' 'children'\n",
      " 'periodontists' 'bikes' 'out' 'blow' 'dog' 'eyebrow' 'boarding' 'musical'\n",
      " 'door' 'windows' 'painters' 'festivals' 'weight' 'small' 'plates'\n",
      " 'packing' 'nutritionists' 'historical' 'adult' 'acupuncture' 'stands'\n",
      " 'cupcakes' 'ophthalmologists' 'kids' 'child' 'bookstores' 'security'\n",
      " 'reflexology' 'hauling' 'junk' 'telecommunications' 'wraps' 'hospitals'\n",
      " 'tinting' 'noodles' 'arcades' 'permanent' 'brokers' 'airport' 'lighting'\n",
      " 'irish' 'inspectors' 'piercing' 'concrete' 'lawyers' 'restoration'\n",
      " 'masonry' 'halal' 'swimming' 'cinema' 'rv' 'vendors' 'session' 'street'\n",
      " 'candy' 'handyman' 'damage' 'windshield' 'offices' 'preschools'\n",
      " 'wineries' 'mailbox' 'computers' 'chocolatiers' 'boot' 'fixtures'\n",
      " 'dermatologists' 'sales' 'spray' 'boat' 'watches' 'shuttles' 'testing'\n",
      " 'post' 'karaoke' 'bed' 'religious' 'keys' 'locksmiths' 'rooms' 'gutter'\n",
      " 'technicians' 'couriers' 'washers' 'pressure' 'gynecologists'\n",
      " 'customization' 'obstetricians' 'truck' 'carpeting' 'rim' 'wheel'\n",
      " 'cannabis' 'landmarks' 'buildings' 'cakes' 'custom' 'pilates' 'shaved'\n",
      " 'limos' 'organic' 'clinics' 'game' 'systems' 'organizations' 'boating'\n",
      " 'spanish' 'walkers' 'cuban' 'formal' 'amusement' 'pools' 'roasteries'\n",
      " 'instruments' 'teachers' 'wholesale' 'maintenance' 'laboratory' 'duct'\n",
      " 'martial' 'acai' 'bowls' 'shades' 'blinds' 'playgrounds' 'paint'\n",
      " 'counseling' 'architects' 'canadian' 'check' 'floral' 'designers'\n",
      " 'gardeners' 'vitamins' 'supplements' 'pediatricians' 'cards' 'stationery'\n",
      " 'games' 'taxis' 'gardens' 'stereo' 'ammo' 'guns' 'parking' 'fishing'\n",
      " 'recreation' 'fish' 'baby' 'watch' 'landscape' 'buyers' 'graphic'\n",
      " 'studios' 'holistic' 'tiling' 'hookah' 'media' 'dvds' 'summer' 'washing'\n",
      " 'pakistani' 'tasting' 'mental' 'orthopedists' 'ramen' 'mirrors'\n",
      " 'rehabilitation' 'elementary' 'naturopathic' 'smog' 'churches' 'internal'\n",
      " 'cabinetry' 'international']\n"
     ]
    }
   ],
   "source": [
    "#print(dict(zip(words, scores)))\n",
    "print(words[200:500])"
   ]
  },
  {
   "cell_type": "code",
   "execution_count": 5,
   "metadata": {},
   "outputs": [
    {
     "data": {
      "text/html": [
       "<div>\n",
       "<style scoped>\n",
       "    .dataframe tbody tr th:only-of-type {\n",
       "        vertical-align: middle;\n",
       "    }\n",
       "\n",
       "    .dataframe tbody tr th {\n",
       "        vertical-align: top;\n",
       "    }\n",
       "\n",
       "    .dataframe thead th {\n",
       "        text-align: right;\n",
       "    }\n",
       "</style>\n",
       "<table border=\"1\" class=\"dataframe\">\n",
       "  <thead>\n",
       "    <tr style=\"text-align: right;\">\n",
       "      <th></th>\n",
       "      <th>business_id</th>\n",
       "      <th>name</th>\n",
       "      <th>city</th>\n",
       "      <th>latitude</th>\n",
       "      <th>longitude</th>\n",
       "      <th>stars</th>\n",
       "      <th>is_open</th>\n",
       "      <th>attributes</th>\n",
       "      <th>categories</th>\n",
       "    </tr>\n",
       "  </thead>\n",
       "  <tbody>\n",
       "    <tr>\n",
       "      <th>13519</th>\n",
       "      <td>Bo-GGwQNcLVwyKeYkbfAYg</td>\n",
       "      <td>Vino Divino</td>\n",
       "      <td>Santa Barbara</td>\n",
       "      <td>34.429154</td>\n",
       "      <td>-119.717222</td>\n",
       "      <td>5.0</td>\n",
       "      <td>1</td>\n",
       "      <td>{'BusinessParking': '{'garage': False, 'street...</td>\n",
       "      <td>Event Planning &amp; Services, Wine Tasting Room, ...</td>\n",
       "    </tr>\n",
       "    <tr>\n",
       "      <th>13520</th>\n",
       "      <td>9iCum5W48TqNVDTZCJUKjg</td>\n",
       "      <td>Plantation Pub</td>\n",
       "      <td>Bellevue</td>\n",
       "      <td>36.070748</td>\n",
       "      <td>-86.947891</td>\n",
       "      <td>3.5</td>\n",
       "      <td>1</td>\n",
       "      <td>{'NoiseLevel': 'u'loud'', 'BusinessAcceptsCred...</td>\n",
       "      <td>Sports Bars, Nightlife, Pubs, Bars</td>\n",
       "    </tr>\n",
       "    <tr>\n",
       "      <th>13521</th>\n",
       "      <td>fWeWzB9STxcX40AgSEQVcw</td>\n",
       "      <td>Arizona-Sonora Desert Museum</td>\n",
       "      <td>Tucson</td>\n",
       "      <td>32.243733</td>\n",
       "      <td>-111.166815</td>\n",
       "      <td>4.5</td>\n",
       "      <td>1</td>\n",
       "      <td>{'GoodForKids': 'True', 'BusinessParking': '{'...</td>\n",
       "      <td>Parks, Zoos, Active Life, Botanical Gardens, M...</td>\n",
       "    </tr>\n",
       "    <tr>\n",
       "      <th>13522</th>\n",
       "      <td>7xc84taj12pt-RtZhAfSkQ</td>\n",
       "      <td>Pimped Out Pickles</td>\n",
       "      <td>Saint Louis</td>\n",
       "      <td>38.660185</td>\n",
       "      <td>-90.225247</td>\n",
       "      <td>5.0</td>\n",
       "      <td>1</td>\n",
       "      <td>{'RestaurantsPriceRange2': '1', 'BusinessParki...</td>\n",
       "      <td>Caterers, Convenience Stores, Food, Event Plan...</td>\n",
       "    </tr>\n",
       "    <tr>\n",
       "      <th>13523</th>\n",
       "      <td>2O2K6SXPWv56amqxCECd4w</td>\n",
       "      <td>The Plum Pit</td>\n",
       "      <td>Aston</td>\n",
       "      <td>39.856185</td>\n",
       "      <td>-75.427725</td>\n",
       "      <td>4.5</td>\n",
       "      <td>1</td>\n",
       "      <td>{'RestaurantsDelivery': 'False', 'BusinessAcce...</td>\n",
       "      <td>Restaurants, Comfort Food, Food, Food Trucks, ...</td>\n",
       "    </tr>\n",
       "  </tbody>\n",
       "</table>\n",
       "</div>"
      ],
      "text/plain": [
       "                  business_id                          name           city  \\\n",
       "13519  Bo-GGwQNcLVwyKeYkbfAYg                   Vino Divino  Santa Barbara   \n",
       "13520  9iCum5W48TqNVDTZCJUKjg                Plantation Pub       Bellevue   \n",
       "13521  fWeWzB9STxcX40AgSEQVcw  Arizona-Sonora Desert Museum         Tucson   \n",
       "13522  7xc84taj12pt-RtZhAfSkQ            Pimped Out Pickles    Saint Louis   \n",
       "13523  2O2K6SXPWv56amqxCECd4w                  The Plum Pit          Aston   \n",
       "\n",
       "        latitude   longitude  stars  is_open  \\\n",
       "13519  34.429154 -119.717222    5.0        1   \n",
       "13520  36.070748  -86.947891    3.5        1   \n",
       "13521  32.243733 -111.166815    4.5        1   \n",
       "13522  38.660185  -90.225247    5.0        1   \n",
       "13523  39.856185  -75.427725    4.5        1   \n",
       "\n",
       "                                              attributes  \\\n",
       "13519  {'BusinessParking': '{'garage': False, 'street...   \n",
       "13520  {'NoiseLevel': 'u'loud'', 'BusinessAcceptsCred...   \n",
       "13521  {'GoodForKids': 'True', 'BusinessParking': '{'...   \n",
       "13522  {'RestaurantsPriceRange2': '1', 'BusinessParki...   \n",
       "13523  {'RestaurantsDelivery': 'False', 'BusinessAcce...   \n",
       "\n",
       "                                              categories  \n",
       "13519  Event Planning & Services, Wine Tasting Room, ...  \n",
       "13520                 Sports Bars, Nightlife, Pubs, Bars  \n",
       "13521  Parks, Zoos, Active Life, Botanical Gardens, M...  \n",
       "13522  Caterers, Convenience Stores, Food, Event Plan...  \n",
       "13523  Restaurants, Comfort Food, Food, Food Trucks, ...  "
      ]
     },
     "execution_count": 5,
     "metadata": {},
     "output_type": "execute_result"
    }
   ],
   "source": [
    "import pandas as pd\n",
    "activities = pd.read_json('categories/activities_business.json')\n",
    "activities.tail()"
   ]
  },
  {
   "cell_type": "code",
   "execution_count": null,
   "metadata": {},
   "outputs": [],
   "source": []
  }
 ],
 "metadata": {
  "kernelspec": {
   "display_name": "Python 3.9.12 ('base')",
   "language": "python",
   "name": "python3"
  },
  "language_info": {
   "codemirror_mode": {
    "name": "ipython",
    "version": 3
   },
   "file_extension": ".py",
   "mimetype": "text/x-python",
   "name": "python",
   "nbconvert_exporter": "python",
   "pygments_lexer": "ipython3",
   "version": "3.9.12"
  },
  "orig_nbformat": 4,
  "vscode": {
   "interpreter": {
    "hash": "d58ea69fd4be483072a57c0f3d43c49afe88d95673704247309f5e6f4d8a2dae"
   }
  }
 },
 "nbformat": 4,
 "nbformat_minor": 2
}
