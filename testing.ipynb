{
 "cells": [
  {
   "cell_type": "markdown",
   "metadata": {},
   "source": [
    "ALL SORTS OF LITTLE TESTS"
   ]
  },
  {
   "cell_type": "code",
   "execution_count": 2,
   "metadata": {},
   "outputs": [],
   "source": [
    "import pandas as pd\n",
    "\n",
    "df = pd.read_json('files/business.json')\n",
    "cat = (' '.join(df['categories'].dropna()))"
   ]
  },
  {
   "cell_type": "code",
   "execution_count": 3,
   "metadata": {},
   "outputs": [
    {
     "data": {
      "text/plain": [
       "array(['3d', 'abatement', 'acai', ..., 'yourself', 'ziplining', 'zoos'],\n",
       "      dtype=object)"
      ]
     },
     "execution_count": 3,
     "metadata": {},
     "output_type": "execute_result"
    }
   ],
   "source": [
    "from sklearn.feature_extraction.text import TfidfVectorizer\n",
    "\n",
    "corpus = [cat]\n",
    "vectorizer = TfidfVectorizer()\n",
    "x = vectorizer.fit_transform(corpus)\n",
    "vectorizer.get_feature_names_out()"
   ]
  },
  {
   "cell_type": "code",
   "execution_count": 6,
   "metadata": {},
   "outputs": [
    {
     "name": "stdout",
     "output_type": "stream",
     "text": [
      "<zip object at 0x0000015BE8EEC480>\n"
     ]
    }
   ],
   "source": [
    "import numpy as np\n",
    "\n",
    "n = len(cat)\n",
    "\n",
    "i = np.flip(np.argsort(x[0, :].A)[0][-n:])\n",
    "scores = np.flip(np.sort(x[0, :].A)[0][-n:])\n",
    "words = vectorizer.get_feature_names_out()[i]"
   ]
  },
  {
   "cell_type": "code",
   "execution_count": 18,
   "metadata": {},
   "outputs": [
    {
     "name": "stdout",
     "output_type": "stream",
     "text": [
      "pet\n",
      "pets\n",
      "veterinarians\n",
      "carpet\n",
      "carpeting\n",
      "competitions\n",
      "petting\n",
      "veterans\n"
     ]
    }
   ],
   "source": [
    "for x in words:\n",
    "    if \"pet\" in x:\n",
    "        print(x)\n",
    "    elif \"vet\" in x:\n",
    "        print(x)"
   ]
  },
  {
   "cell_type": "code",
   "execution_count": 13,
   "metadata": {},
   "outputs": [
    {
     "name": "stdout",
     "output_type": "stream",
     "text": [
      "['yoga' 'insurance' 'creole' 'cajun' 'wear' 'store' 'mex' 'tex'\n",
      " 'detailing' 'landscaping' 'bar' 'nurseries' 'gardening' 'design'\n",
      " 'management' 'discount' 'breweries' 'training' 'vegan' 'vietnamese' 'law'\n",
      " 'alterations' 'sewing' 'indian' 'shipping' 'medicine' 'self' 'latin'\n",
      " 'storage' 'gift' 'kitchen' 'hardware' 'galleries' 'free' 'greek' 'gluten'\n",
      " 'golf' 'dance' 'dogs' 'bath' 'banks' 'property' 'water' 'consignment'\n",
      " 'vintage' 'oral' 'unions' 'credit' 'comfort' 'wedding' 'bagels'\n",
      " 'chiropractors' 'providers' 'endodontists' 'tattoo' 'gear' 'office'\n",
      " 'towing' 'tobacco' 'ethnic' 'tapas' 'middle' 'carpet' 'orthodontists'\n",
      " 'dive' 'diagnostic' 'transmission' 'family' 'antiques' 'laser' 'bike'\n",
      " 'mattresses' 'extensions' 'agents' 'buffets' 'flooring' 'window'\n",
      " 'cheesesteaks' 'thrift' 'camps' 'control' 'caribbean' 'eastern'\n",
      " 'performing' 'physical' 'tree' 'tub' 'heater' 'bridal' 'hobby' 'meat'\n",
      " 'motorcycle' 'center' 'urgent' 'soul' 'community' 'veggies' 'fruits'\n",
      " 'pediatric' 'toy' 'notaries' 'gastropubs' 'interior' 'photographers'\n",
      " 'pest' 'pharmacy' 'activities' 'french' 'profit' 'non' 'practice'\n",
      " 'internet' 'loss' 'market' 'farmers' 'korean' 'electricians' 'mortgage'\n",
      " 'museums' 'personal' 'outdoor' 'bubble' 'vape' 'roofing' 'children'\n",
      " 'periodontists' 'bikes' 'out' 'blow' 'dog' 'eyebrow' 'boarding' 'musical'\n",
      " 'door' 'windows' 'painters' 'festivals' 'weight' 'small' 'plates'\n",
      " 'packing' 'nutritionists' 'historical' 'adult' 'acupuncture' 'stands'\n",
      " 'cupcakes' 'ophthalmologists' 'kids' 'child' 'bookstores' 'security'\n",
      " 'reflexology' 'hauling' 'junk' 'telecommunications' 'wraps' 'hospitals'\n",
      " 'tinting' 'noodles' 'arcades' 'permanent' 'brokers' 'airport' 'lighting'\n",
      " 'irish' 'inspectors' 'piercing' 'concrete' 'lawyers' 'restoration'\n",
      " 'masonry' 'halal' 'swimming' 'cinema' 'rv' 'vendors' 'session' 'street'\n",
      " 'candy' 'handyman' 'damage' 'windshield' 'offices' 'preschools'\n",
      " 'wineries' 'mailbox' 'computers' 'chocolatiers' 'boot' 'fixtures'\n",
      " 'dermatologists' 'sales' 'spray' 'boat' 'watches' 'shuttles' 'testing'\n",
      " 'post' 'karaoke' 'bed' 'religious' 'keys' 'locksmiths' 'rooms' 'gutter'\n",
      " 'technicians' 'couriers' 'washers' 'pressure' 'gynecologists'\n",
      " 'customization' 'obstetricians' 'truck' 'carpeting' 'rim' 'wheel'\n",
      " 'cannabis' 'landmarks' 'buildings' 'cakes' 'custom' 'pilates' 'shaved'\n",
      " 'limos' 'organic' 'clinics' 'game' 'systems' 'organizations' 'boating'\n",
      " 'spanish' 'walkers' 'cuban' 'formal' 'amusement' 'pools' 'roasteries'\n",
      " 'instruments' 'teachers' 'wholesale' 'maintenance' 'laboratory' 'duct'\n",
      " 'martial' 'acai' 'bowls' 'shades' 'blinds' 'playgrounds' 'paint'\n",
      " 'counseling' 'architects' 'canadian' 'check' 'floral' 'designers'\n",
      " 'gardeners' 'vitamins' 'supplements' 'pediatricians' 'cards' 'stationery'\n",
      " 'games' 'taxis' 'gardens' 'stereo' 'ammo' 'guns' 'parking' 'fishing'\n",
      " 'recreation' 'fish' 'baby' 'watch' 'landscape' 'buyers' 'graphic'\n",
      " 'studios' 'holistic' 'tiling' 'hookah' 'media' 'dvds' 'summer' 'washing'\n",
      " 'pakistani' 'tasting' 'mental' 'orthopedists' 'ramen' 'mirrors'\n",
      " 'rehabilitation' 'elementary' 'naturopathic' 'smog' 'churches' 'internal'\n",
      " 'cabinetry' 'international']\n"
     ]
    }
   ],
   "source": [
    "#print(dict(zip(words, scores)))\n",
    "print(words[200:500])"
   ]
  },
  {
   "cell_type": "code",
   "execution_count": null,
   "metadata": {},
   "outputs": [],
   "source": []
  }
 ],
 "metadata": {
  "kernelspec": {
   "display_name": "Python 3.9.12 ('base')",
   "language": "python",
   "name": "python3"
  },
  "language_info": {
   "codemirror_mode": {
    "name": "ipython",
    "version": 3
   },
   "file_extension": ".py",
   "mimetype": "text/x-python",
   "name": "python",
   "nbconvert_exporter": "python",
   "pygments_lexer": "ipython3",
   "version": "3.9.12"
  },
  "orig_nbformat": 4,
  "vscode": {
   "interpreter": {
    "hash": "d58ea69fd4be483072a57c0f3d43c49afe88d95673704247309f5e6f4d8a2dae"
   }
  }
 },
 "nbformat": 4,
 "nbformat_minor": 2
}
