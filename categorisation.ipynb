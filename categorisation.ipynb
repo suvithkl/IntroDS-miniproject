{
 "cells": [
  {
   "cell_type": "markdown",
   "metadata": {},
   "source": [
    "DIVIDING BUSINESSES INTO CATEGORIES"
   ]
  },
  {
   "cell_type": "code",
   "execution_count": 1,
   "metadata": {},
   "outputs": [],
   "source": [
    "# uploading category files into arrays\n",
    "\n",
    "# when running, change to own local paths\n",
    "with open('categories/activities.txt') as f: \n",
    "    cat_activities = list(f.read().splitlines())\n",
    "\n",
    "with open('categories/beauty.txt') as f: \n",
    "    cat_beauty = list(f.read().splitlines())\n",
    "\n",
    "with open('categories/food.txt') as f: \n",
    "    cat_food = list(f.read().splitlines())\n",
    "\n",
    "with open('categories/health.txt') as f: \n",
    "    cat_health = list(f.read().splitlines())\n",
    "\n",
    "with open('categories/nightlife.txt') as f: \n",
    "    cat_nightlife = list(f.read().splitlines())\n",
    "\n",
    "with open('categories/pets.txt') as f: \n",
    "    cat_pets = list(f.read().splitlines())\n",
    "\n",
    "with open('categories/services.txt') as f: \n",
    "    cat_services = list(f.read().splitlines())\n",
    "\n",
    "with open('categories/stores.txt') as f: \n",
    "    cat_stores = list(f.read().splitlines())\n"
   ]
  },
  {
   "cell_type": "code",
   "execution_count": 2,
   "metadata": {},
   "outputs": [
    {
     "ename": "NameError",
     "evalue": "name 'review' is not defined",
     "output_type": "error",
     "traceback": [
      "\u001b[1;31m---------------------------------------------------------------------------\u001b[0m",
      "\u001b[1;31mNameError\u001b[0m                                 Traceback (most recent call last)",
      "\u001b[1;32mc:\\Users\\suvit\\OneDrive - University of Helsinki\\Documents\\IntroDS\\IntroDS-miniproject\\categorisation.ipynb Cell 3\u001b[0m in \u001b[0;36m<cell line: 6>\u001b[1;34m()\u001b[0m\n\u001b[0;32m      <a href='vscode-notebook-cell:/c%3A/Users/suvit/OneDrive%20-%20University%20of%20Helsinki/Documents/IntroDS/IntroDS-miniproject/categorisation.ipynb#W2sZmlsZQ%3D%3D?line=2'>3</a>\u001b[0m \u001b[39mimport\u001b[39;00m \u001b[39mpandas\u001b[39;00m \u001b[39mas\u001b[39;00m \u001b[39mpd\u001b[39;00m\n\u001b[0;32m      <a href='vscode-notebook-cell:/c%3A/Users/suvit/OneDrive%20-%20University%20of%20Helsinki/Documents/IntroDS/IntroDS-miniproject/categorisation.ipynb#W2sZmlsZQ%3D%3D?line=4'>5</a>\u001b[0m df \u001b[39m=\u001b[39m pd\u001b[39m.\u001b[39mread_json(\u001b[39m'\u001b[39m\u001b[39mfiles/business.json\u001b[39m\u001b[39m'\u001b[39m)\n\u001b[1;32m----> <a href='vscode-notebook-cell:/c%3A/Users/suvit/OneDrive%20-%20University%20of%20Helsinki/Documents/IntroDS/IntroDS-miniproject/categorisation.ipynb#W2sZmlsZQ%3D%3D?line=5'>6</a>\u001b[0m df \u001b[39m=\u001b[39m df\u001b[39m.\u001b[39mloc[review[\u001b[39m'\u001b[39m\u001b[39mstars\u001b[39m\u001b[39m'\u001b[39m] \u001b[39m>\u001b[39m \u001b[39m3\u001b[39m]\n",
      "\u001b[1;31mNameError\u001b[0m: name 'review' is not defined"
     ]
    }
   ],
   "source": [
    "# uploading businesses into dataframe\n",
    "\n",
    "import pandas as pd\n",
    "\n",
    "df = pd.read_json('files/business.json')\n",
    "df = df.loc[df['stars'] > 3]"
   ]
  },
  {
   "cell_type": "code",
   "execution_count": 17,
   "metadata": {},
   "outputs": [],
   "source": [
    "# initializing category dataframes\n",
    "\n",
    "activities = pd.DataFrame(columns=['business_id', 'name', 'city', 'latitude', 'longitude', 'stars', 'is_open', 'attributes', 'categories'])\n",
    "beauty = pd.DataFrame(columns=['business_id', 'name', 'city', 'latitude', 'longitude', 'stars', 'is_open', 'attributes', 'categories'])\n",
    "food = pd.DataFrame(columns=['business_id', 'name', 'city', 'latitude', 'longitude', 'stars', 'is_open', 'attributes', 'categories'])\n",
    "health = pd.DataFrame(columns=['business_id', 'name', 'city', 'latitude', 'longitude', 'stars', 'is_open', 'attributes', 'categories'])\n",
    "nightlife = pd.DataFrame(columns=['business_id', 'name', 'city', 'latitude', 'longitude', 'stars', 'is_open', 'attributes', 'categories'])\n",
    "pets = pd.DataFrame(columns=['business_id', 'name', 'city', 'latitude', 'longitude', 'stars', 'is_open', 'attributes', 'categories'])\n",
    "services = pd.DataFrame(columns=['business_id', 'name', 'city', 'latitude', 'longitude', 'stars', 'is_open', 'attributes', 'categories'])\n",
    "stores = pd.DataFrame(columns=['business_id', 'name', 'city', 'latitude', 'longitude', 'stars', 'is_open', 'attributes', 'categories'])"
   ]
  },
  {
   "cell_type": "code",
   "execution_count": 19,
   "metadata": {},
   "outputs": [
    {
     "name": "stdout",
     "output_type": "stream",
     "text": [
      "business_id                               Pns2l4eNsfO8kk83dixA6A\n",
      "name                                    Abby Rappoport, LAC, CMQ\n",
      "city                                               Santa Barbara\n",
      "latitude                                               34.426679\n",
      "longitude                                            -119.711197\n",
      "stars                                                        5.0\n",
      "is_open                                                        0\n",
      "attributes                         {'ByAppointmentOnly': 'True'}\n",
      "categories     Doctors, Traditional Chinese Medicine, Naturop...\n",
      "Name: 0, dtype: object\n"
     ]
    }
   ],
   "source": [
    "# dividing businesses into categories\n",
    "\n",
    "for i in range(len(df)):\n",
    "    cat = df.iloc[i]['categories'].replace(',', '').lower().split()\n",
    "\n",
    "    for word in cat_activities:\n",
    "        if word in cat:\n",
    "            activities.loc[len(df.index)] = dict(df.iloc[i])\n",
    "\n",
    "    for word in cat_beauty:\n",
    "        if word in cat:\n",
    "            beauty.loc[len(df.index)] = dict(df.iloc[i])\n",
    "\n",
    "    for word in cat_food:\n",
    "        if word in cat:\n",
    "            food.loc[len(df.index)] = dict(df.iloc[i])\n",
    "\n",
    "    for word in cat_health:\n",
    "        if word in cat:\n",
    "            health.loc[len(df.index)] = dict(df.iloc[i])\n",
    "\n",
    "    for word in cat_nightlife:\n",
    "        if word in cat:\n",
    "            nightlife.loc[len(df.index)] = dict(df.iloc[i])\n",
    "\n",
    "    for word in cat_pets:\n",
    "        if word in cat:\n",
    "            pets.loc[len(df.index)] = dict(df.iloc[i])\n",
    "\n",
    "    for word in cat_services:\n",
    "        if word in cat:\n",
    "            services.loc[len(df.index)] = dict(df.iloc[i])\n",
    "\n",
    "    for word in cat_stores:\n",
    "        if word in cat:\n",
    "            stores.loc[len(df.index)] = dict(df.iloc[i])"
   ]
  },
  {
   "cell_type": "code",
   "execution_count": null,
   "metadata": {},
   "outputs": [],
   "source": [
    "# writing into files?"
   ]
  }
 ],
 "metadata": {
  "kernelspec": {
   "display_name": "Python 3.9.12 ('base')",
   "language": "python",
   "name": "python3"
  },
  "language_info": {
   "codemirror_mode": {
    "name": "ipython",
    "version": 3
   },
   "file_extension": ".py",
   "mimetype": "text/x-python",
   "name": "python",
   "nbconvert_exporter": "python",
   "pygments_lexer": "ipython3",
   "version": "3.9.12"
  },
  "orig_nbformat": 4,
  "vscode": {
   "interpreter": {
    "hash": "d58ea69fd4be483072a57c0f3d43c49afe88d95673704247309f5e6f4d8a2dae"
   }
  }
 },
 "nbformat": 4,
 "nbformat_minor": 2
}
