{
 "cells": [
  {
   "cell_type": "markdown",
   "metadata": {},
   "source": [
    "DIVIDING BUSINESSES INTO CATEGORIES"
   ]
  },
  {
   "cell_type": "code",
   "execution_count": 2,
   "metadata": {},
   "outputs": [],
   "source": [
    "# uploading category files into arrays\n",
    "\n",
    "# when running, change to own local paths\n",
    "with open('categories/activities.txt') as f: \n",
    "    cat_activities = list(f.read().splitlines())\n",
    "\n",
    "with open('categories/beauty.txt') as f: \n",
    "    cat_beauty = list(f.read().splitlines())\n",
    "\n",
    "with open('categories/food.txt') as f: \n",
    "    cat_food = list(f.read().splitlines())\n",
    "\n",
    "with open('categories/health.txt') as f: \n",
    "    cat_health = list(f.read().splitlines())\n",
    "\n",
    "with open('categories/nightlife.txt') as f: \n",
    "    cat_nightlife = list(f.read().splitlines())\n",
    "\n",
    "with open('categories/pets.txt') as f: \n",
    "    cat_pets = list(f.read().splitlines())\n",
    "\n",
    "with open('categories/services.txt') as f: \n",
    "    cat_services = list(f.read().splitlines())\n",
    "\n",
    "with open('categories/stores.txt') as f: \n",
    "    cat_stores = list(f.read().splitlines())"
   ]
  },
  {
   "cell_type": "code",
   "execution_count": 1,
   "metadata": {},
   "outputs": [],
   "source": [
    "# uploading businesses into dataframe\n",
    "\n",
    "import pandas as pd\n",
    "\n",
    "df = pd.read_json('files/business.json')\n",
    "df = df.loc[df['stars'] > 3]"
   ]
  },
  {
   "cell_type": "code",
   "execution_count": 3,
   "metadata": {},
   "outputs": [],
   "source": [
    "# initializing category dataframes\n",
    "\n",
    "activities = pd.DataFrame(columns=['business_id', 'name', 'city', 'latitude', 'longitude', 'stars', 'is_open', 'attributes', 'categories'])\n",
    "beauty = pd.DataFrame(columns=['business_id', 'name', 'city', 'latitude', 'longitude', 'stars', 'is_open', 'attributes', 'categories'])\n",
    "food = pd.DataFrame(columns=['business_id', 'name', 'city', 'latitude', 'longitude', 'stars', 'is_open', 'attributes', 'categories'])\n",
    "health = pd.DataFrame(columns=['business_id', 'name', 'city', 'latitude', 'longitude', 'stars', 'is_open', 'attributes', 'categories'])\n",
    "nightlife = pd.DataFrame(columns=['business_id', 'name', 'city', 'latitude', 'longitude', 'stars', 'is_open', 'attributes', 'categories'])\n",
    "pets = pd.DataFrame(columns=['business_id', 'name', 'city', 'latitude', 'longitude', 'stars', 'is_open', 'attributes', 'categories'])\n",
    "services = pd.DataFrame(columns=['business_id', 'name', 'city', 'latitude', 'longitude', 'stars', 'is_open', 'attributes', 'categories'])\n",
    "stores = pd.DataFrame(columns=['business_id', 'name', 'city', 'latitude', 'longitude', 'stars', 'is_open', 'attributes', 'categories'])"
   ]
  },
  {
   "cell_type": "code",
   "execution_count": 10,
   "metadata": {},
   "outputs": [],
   "source": [
    "# dividing businesses into categories\n",
    "\n",
    "for i in range(len(df)):\n",
    "    cat = df.iloc[i]['categories']\n",
    "    if cat is None:\n",
    "        continue\n",
    "    cat = cat.replace(',', '').lower().split()\n",
    "\n",
    "    for word in cat_activities:\n",
    "        if word in cat:\n",
    "            activities = pd.concat([activities, pd.Series(df.iloc[i])], ignore_index=True)\n",
    "\n",
    "    for word in cat_beauty:\n",
    "        if word in cat:\n",
    "            beauty = pd.concat([beauty, pd.Series(df.iloc[i])], ignore_index=True)\n",
    "\n",
    "    for word in cat_food:\n",
    "        if word in cat:\n",
    "            food = pd.concat([food, pd.Series(df.iloc[i])], ignore_index=True)\n",
    "\n",
    "    for word in cat_health:\n",
    "        if word in cat:\n",
    "            health = pd.concat([health, pd.Series(df.iloc[i])], ignore_index=True)\n",
    "\n",
    "    for word in cat_nightlife:\n",
    "        if word in cat:\n",
    "            nightlife = pd.concat([nightlife, pd.Series(df.iloc[i])], ignore_index=True)\n",
    "\n",
    "    for word in cat_pets:\n",
    "        if word in cat:\n",
    "            pets = pd.concat([pets, pd.Series(df.iloc[i])], ignore_index=True)\n",
    "\n",
    "    for word in cat_services:\n",
    "        if word in cat:\n",
    "            services = pd.concat([services, pd.Series(df.iloc[i])], ignore_index=True)\n",
    "\n",
    "    for word in cat_stores:\n",
    "        if word in cat:\n",
    "            stores = pd.concat([stores, pd.Series(df.iloc[i])], ignore_index=True)"
   ]
  },
  {
   "cell_type": "code",
   "execution_count": 5,
   "metadata": {},
   "outputs": [],
   "source": [
    "# saving businesses per category into files\n",
    "\n",
    "with open('activities_business.json', 'w') as f:\n",
    "    f.write(activities.to_json(orient=\"records\"))\n",
    "\n",
    "with open('beauty_business.json', 'w') as f:\n",
    "    f.write(beauty.to_json(orient=\"records\"))\n",
    "\n",
    "with open('food_business.json', 'w') as f:\n",
    "    f.write(food.to_json(orient=\"records\"))\n",
    "\n",
    "with open('health_business.json', 'w') as f:\n",
    "    f.write(health.to_json(orient=\"records\"))\n",
    "\n",
    "with open('nightlife_business.json', 'w') as f:\n",
    "    f.write(nightlife.to_json(orient=\"records\"))\n",
    "\n",
    "with open('pets_business.json', 'w') as f:\n",
    "    f.write(pets.to_json(orient=\"records\"))\n",
    "\n",
    "with open('services_business.json', 'w') as f:\n",
    "    f.write(services.to_json(orient=\"records\"))\n",
    "\n",
    "with open('stores_business.json', 'w') as f:\n",
    "    f.write(stores.to_json(orient=\"records\"))"
   ]
  },
  {
   "cell_type": "code",
   "execution_count": null,
   "metadata": {},
   "outputs": [],
   "source": [
    "# uploading positive reviews into dataframe\n",
    "\n",
    "reviews = pd.read_json('files/review_pos.json')"
   ]
  },
  {
   "cell_type": "code",
   "execution_count": null,
   "metadata": {},
   "outputs": [],
   "source": [
    "# initializing categorised review dataframes\n",
    "\n",
    "activities_review = pd.DataFrame()\n",
    "beauty_review = pd.DataFrame()\n",
    "food_review = pd.DataFrame()\n",
    "health_review = pd.DataFrame()\n",
    "nightlife_review = pd.DataFrame()\n",
    "pets_review = pd.DataFrame()\n",
    "services_review = pd.DataFrame()\n",
    "stores_review = pd.DataFrame()"
   ]
  },
  {
   "cell_type": "code",
   "execution_count": null,
   "metadata": {},
   "outputs": [],
   "source": [
    "# merging categorised businesses to positive reviews\n",
    "\n",
    "def merge_review(bus_frame, rev_frame):\n",
    "    for i in range(len(reviews)):\n",
    "        id = reviews.loc[i, 2]\n",
    "        for j in range(len(bus_frame)):\n",
    "            id_bus = bus_frame.loc[j, 0]\n",
    "            if id_bus == id:\n",
    "                row = pd.merge(bus_frame.loc[j], reviews.loc[i], on='business_id')\n",
    "                rev_frame = pd.concat([rev_frame, row], ignore_index=True)\n",
    "\n",
    "merge_review(activities, activities_review)\n",
    "merge_review(beauty, beauty_review)\n",
    "merge_review(food, food_review)\n",
    "merge_review(health, health_review)\n",
    "merge_review(nightlife, nightlife_review)\n",
    "merge_review(pets, pets_review)\n",
    "merge_review(services, services_review)\n",
    "merge_review(stores, stores_review)"
   ]
  }
 ],
 "metadata": {
  "kernelspec": {
   "display_name": "Python 3.9.12 ('base')",
   "language": "python",
   "name": "python3"
  },
  "language_info": {
   "codemirror_mode": {
    "name": "ipython",
    "version": 3
   },
   "file_extension": ".py",
   "mimetype": "text/x-python",
   "name": "python",
   "nbconvert_exporter": "python",
   "pygments_lexer": "ipython3",
   "version": "3.9.12"
  },
  "orig_nbformat": 4,
  "vscode": {
   "interpreter": {
    "hash": "d58ea69fd4be483072a57c0f3d43c49afe88d95673704247309f5e6f4d8a2dae"
   }
  }
 },
 "nbformat": 4,
 "nbformat_minor": 2
}
