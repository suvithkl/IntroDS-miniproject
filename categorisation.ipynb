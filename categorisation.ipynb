{
 "cells": [
  {
   "cell_type": "markdown",
   "metadata": {},
   "source": [
    "DIVIDING BUSINESSES INTO CATEGORIES"
   ]
  },
  {
   "cell_type": "code",
   "execution_count": 1,
   "metadata": {},
   "outputs": [],
   "source": [
    "# uploading category files into arrays\n",
    "\n",
    "import pandas as pd\n",
    "\n",
    "# when running, change to own local paths\n",
    "with open('categories/activities.txt') as f: \n",
    "    cat_activities = pd.Series(f.read().splitlines())\n",
    "\n",
    "with open('categories/beauty.txt') as f: \n",
    "    cat_beauty = pd.Series(f.read().splitlines())\n",
    "\n",
    "with open('categories/food.txt') as f: \n",
    "    cat_food = pd.Series(f.read().splitlines())\n",
    "\n",
    "with open('categories/health.txt') as f: \n",
    "    cat_health = pd.Series(f.read().splitlines())\n",
    "\n",
    "with open('categories/nightlife.txt') as f: \n",
    "    cat_nightlife = pd.Series(f.read().splitlines())\n",
    "\n",
    "with open('categories/pets.txt') as f: \n",
    "    cat_pets = pd.Series(f.read().splitlines())\n",
    "\n",
    "with open('categories/services.txt') as f: \n",
    "    cat_services = pd.Series(f.read().splitlines())\n",
    "\n",
    "with open('categories/stores.txt') as f: \n",
    "    cat_stores = pd.Series(f.read().splitlines())"
   ]
  },
  {
   "cell_type": "code",
   "execution_count": 2,
   "metadata": {},
   "outputs": [],
   "source": [
    "# uploading businesses into dataframe\n",
    "\n",
    "df = pd.read_json('files/business.json')\n",
    "df = df.loc[df['stars'] > 3]"
   ]
  },
  {
   "cell_type": "code",
   "execution_count": 3,
   "metadata": {},
   "outputs": [],
   "source": [
    "# initializing category dataframes\n",
    "\n",
    "activities = pd.DataFrame()\n",
    "beauty = pd.DataFrame()\n",
    "food = pd.DataFrame()\n",
    "health = pd.DataFrame()\n",
    "nightlife = pd.DataFrame()\n",
    "pets = pd.DataFrame()\n",
    "services = pd.DataFrame()\n",
    "stores = pd.DataFrame()"
   ]
  },
  {
   "cell_type": "code",
   "execution_count": 4,
   "metadata": {},
   "outputs": [
    {
     "name": "stdout",
     "output_type": "stream",
     "text": [
      "0\n",
      "5000\n",
      "10000\n",
      "15000\n",
      "20000\n",
      "25000\n",
      "30000\n",
      "35000\n",
      "40000\n",
      "45000\n",
      "50000\n",
      "55000\n",
      "60000\n",
      "65000\n",
      "70000\n",
      "75000\n",
      "80000\n",
      "85000\n",
      "90000\n",
      "95000\n",
      "100000\n"
     ]
    }
   ],
   "source": [
    "# dividing businesses into categories\n",
    "\n",
    "import warnings\n",
    "warnings.filterwarnings(\"ignore\", category=FutureWarning)\n",
    "\n",
    "for i in range(len(df)):\n",
    "    if (i % 5000) == 0:\n",
    "        print(i)\n",
    "\n",
    "    cat = df.iloc[i]['categories']\n",
    "    if cat is None:\n",
    "        continue\n",
    "    cat = pd.Series(cat.replace(',', '').lower().split())\n",
    "\n",
    "    if not pd.Series(list(set(cat) & set(cat_activities))).empty:\n",
    "        activities = activities.append(pd.Series(df.iloc[i]), ignore_index=True)\n",
    "\n",
    "    if not pd.Series(list(set(cat) & set(cat_beauty))).empty:\n",
    "        beauty = beauty.append(pd.Series(df.iloc[i]), ignore_index=True)\n",
    "    \n",
    "    if not pd.Series(list(set(cat) & set(cat_food))).empty:\n",
    "        food = food.append(pd.Series(df.iloc[i]), ignore_index=True)\n",
    "\n",
    "    if not pd.Series(list(set(cat) & set(cat_health))).empty:\n",
    "        health = health.append(pd.Series(df.iloc[i]), ignore_index=True)\n",
    "\n",
    "    if not pd.Series(list(set(cat) & set(cat_nightlife))).empty:\n",
    "        nightlife = nightlife.append(pd.Series(df.iloc[i]), ignore_index=True)\n",
    "\n",
    "    if not pd.Series(list(set(cat) & set(cat_pets))).empty:\n",
    "        pets = pets.append(pd.Series(df.iloc[i]), ignore_index=True)\n",
    "\n",
    "    if not pd.Series(list(set(cat) & set(cat_services))).empty:\n",
    "        services = services.append(pd.Series(df.iloc[i]), ignore_index=True)\n",
    "\n",
    "    if not pd.Series(list(set(cat) & set(cat_stores))).empty:\n",
    "        stores = stores.append(pd.Series(df.iloc[i]), ignore_index=True)"
   ]
  },
  {
   "cell_type": "code",
   "execution_count": 6,
   "metadata": {},
   "outputs": [],
   "source": [
    "# saving businesses per category into files\n",
    "\n",
    "with open('activities_business.json', 'w') as f:\n",
    "    f.write(activities.to_json(orient=\"records\"))\n",
    "\n",
    "with open('beauty_business.json', 'w') as f:\n",
    "    f.write(beauty.to_json(orient=\"records\"))\n",
    "\n",
    "with open('food_business.json', 'w') as f:\n",
    "    f.write(food.to_json(orient=\"records\"))\n",
    "\n",
    "with open('health_business.json', 'w') as f:\n",
    "    f.write(health.to_json(orient=\"records\"))\n",
    "\n",
    "with open('nightlife_business.json', 'w') as f:\n",
    "    f.write(nightlife.to_json(orient=\"records\"))\n",
    "\n",
    "with open('pets_business.json', 'w') as f:\n",
    "    f.write(pets.to_json(orient=\"records\"))\n",
    "\n",
    "with open('services_business.json', 'w') as f:\n",
    "    f.write(services.to_json(orient=\"records\"))\n",
    "\n",
    "with open('stores_business.json', 'w') as f:\n",
    "    f.write(stores.to_json(orient=\"records\"))"
   ]
  },
  {
   "cell_type": "code",
   "execution_count": 7,
   "metadata": {},
   "outputs": [],
   "source": [
    "# uploading positive reviews into dataframe\n",
    "\n",
    "reviews = pd.read_json('files/review_pos.json')"
   ]
  },
  {
   "cell_type": "code",
   "execution_count": 64,
   "metadata": {},
   "outputs": [],
   "source": [
    "# initializing categorised review dataframes\n",
    "\n",
    "activities_review = pd.DataFrame()\n",
    "beauty_review = pd.DataFrame()\n",
    "food_review = pd.DataFrame()\n",
    "health_review = pd.DataFrame()\n",
    "nightlife_review = pd.DataFrame()\n",
    "pets_review = pd.DataFrame()\n",
    "services_review = pd.DataFrame()\n",
    "stores_review = pd.DataFrame()"
   ]
  },
  {
   "cell_type": "code",
   "execution_count": 66,
   "metadata": {},
   "outputs": [
    {
     "ename": "KeyboardInterrupt",
     "evalue": "",
     "output_type": "error",
     "traceback": [
      "\u001b[1;31m---------------------------------------------------------------------------\u001b[0m",
      "\u001b[1;31mKeyboardInterrupt\u001b[0m                         Traceback (most recent call last)",
      "\u001b[1;32mc:\\Users\\suvit\\OneDrive - University of Helsinki\\Documents\\IntroDS\\IntroDS-miniproject\\categorisation.ipynb Cell 9\u001b[0m in \u001b[0;36m<cell line: 12>\u001b[1;34m()\u001b[0m\n\u001b[0;32m      <a href='vscode-notebook-cell:/c%3A/Users/suvit/OneDrive%20-%20University%20of%20Helsinki/Documents/IntroDS/IntroDS-miniproject/categorisation.ipynb#X12sZmlsZQ%3D%3D?line=8'>9</a>\u001b[0m                 row \u001b[39m=\u001b[39m pd\u001b[39m.\u001b[39mconcat([bus_frame\u001b[39m.\u001b[39miloc[j], reviews\u001b[39m.\u001b[39miloc[i]\u001b[39m.\u001b[39mrename({\u001b[39m'\u001b[39m\u001b[39mbusiness_id\u001b[39m\u001b[39m'\u001b[39m: \u001b[39m'\u001b[39m\u001b[39mid\u001b[39m\u001b[39m'\u001b[39m})\u001b[39m.\u001b[39mdrop(\u001b[39m'\u001b[39m\u001b[39mid\u001b[39m\u001b[39m'\u001b[39m)])\n\u001b[0;32m     <a href='vscode-notebook-cell:/c%3A/Users/suvit/OneDrive%20-%20University%20of%20Helsinki/Documents/IntroDS/IntroDS-miniproject/categorisation.ipynb#X12sZmlsZQ%3D%3D?line=9'>10</a>\u001b[0m                 rev_frame \u001b[39m=\u001b[39m rev_frame\u001b[39m.\u001b[39mappend(row, ignore_index\u001b[39m=\u001b[39m\u001b[39mTrue\u001b[39;00m)\n\u001b[1;32m---> <a href='vscode-notebook-cell:/c%3A/Users/suvit/OneDrive%20-%20University%20of%20Helsinki/Documents/IntroDS/IntroDS-miniproject/categorisation.ipynb#X12sZmlsZQ%3D%3D?line=11'>12</a>\u001b[0m merge_review(activities, activities_review)\n\u001b[0;32m     <a href='vscode-notebook-cell:/c%3A/Users/suvit/OneDrive%20-%20University%20of%20Helsinki/Documents/IntroDS/IntroDS-miniproject/categorisation.ipynb#X12sZmlsZQ%3D%3D?line=12'>13</a>\u001b[0m \u001b[39mprint\u001b[39m(\u001b[39m'\u001b[39m\u001b[39m1\u001b[39m\u001b[39m'\u001b[39m)\n\u001b[0;32m     <a href='vscode-notebook-cell:/c%3A/Users/suvit/OneDrive%20-%20University%20of%20Helsinki/Documents/IntroDS/IntroDS-miniproject/categorisation.ipynb#X12sZmlsZQ%3D%3D?line=13'>14</a>\u001b[0m merge_review(beauty, beauty_review)\n",
      "\u001b[1;32mc:\\Users\\suvit\\OneDrive - University of Helsinki\\Documents\\IntroDS\\IntroDS-miniproject\\categorisation.ipynb Cell 9\u001b[0m in \u001b[0;36mmerge_review\u001b[1;34m(bus_frame, rev_frame)\u001b[0m\n\u001b[0;32m      <a href='vscode-notebook-cell:/c%3A/Users/suvit/OneDrive%20-%20University%20of%20Helsinki/Documents/IntroDS/IntroDS-miniproject/categorisation.ipynb#X12sZmlsZQ%3D%3D?line=4'>5</a>\u001b[0m \u001b[39mid\u001b[39m \u001b[39m=\u001b[39m reviews\u001b[39m.\u001b[39miloc[i, \u001b[39m0\u001b[39m]\n\u001b[0;32m      <a href='vscode-notebook-cell:/c%3A/Users/suvit/OneDrive%20-%20University%20of%20Helsinki/Documents/IntroDS/IntroDS-miniproject/categorisation.ipynb#X12sZmlsZQ%3D%3D?line=5'>6</a>\u001b[0m \u001b[39mfor\u001b[39;00m j \u001b[39min\u001b[39;00m \u001b[39mrange\u001b[39m(\u001b[39mlen\u001b[39m(bus_frame)):\n\u001b[1;32m----> <a href='vscode-notebook-cell:/c%3A/Users/suvit/OneDrive%20-%20University%20of%20Helsinki/Documents/IntroDS/IntroDS-miniproject/categorisation.ipynb#X12sZmlsZQ%3D%3D?line=6'>7</a>\u001b[0m     id_bus \u001b[39m=\u001b[39m bus_frame\u001b[39m.\u001b[39;49miloc[j, \u001b[39m0\u001b[39;49m]\n\u001b[0;32m      <a href='vscode-notebook-cell:/c%3A/Users/suvit/OneDrive%20-%20University%20of%20Helsinki/Documents/IntroDS/IntroDS-miniproject/categorisation.ipynb#X12sZmlsZQ%3D%3D?line=7'>8</a>\u001b[0m     \u001b[39mif\u001b[39;00m id_bus \u001b[39m==\u001b[39m \u001b[39mid\u001b[39m:\n\u001b[0;32m      <a href='vscode-notebook-cell:/c%3A/Users/suvit/OneDrive%20-%20University%20of%20Helsinki/Documents/IntroDS/IntroDS-miniproject/categorisation.ipynb#X12sZmlsZQ%3D%3D?line=8'>9</a>\u001b[0m         row \u001b[39m=\u001b[39m pd\u001b[39m.\u001b[39mconcat([bus_frame\u001b[39m.\u001b[39miloc[j], reviews\u001b[39m.\u001b[39miloc[i]\u001b[39m.\u001b[39mrename({\u001b[39m'\u001b[39m\u001b[39mbusiness_id\u001b[39m\u001b[39m'\u001b[39m: \u001b[39m'\u001b[39m\u001b[39mid\u001b[39m\u001b[39m'\u001b[39m})\u001b[39m.\u001b[39mdrop(\u001b[39m'\u001b[39m\u001b[39mid\u001b[39m\u001b[39m'\u001b[39m)])\n",
      "File \u001b[1;32mc:\\Users\\suvit\\anaconda3\\lib\\site-packages\\pandas\\core\\indexing.py:960\u001b[0m, in \u001b[0;36m_LocationIndexer.__getitem__\u001b[1;34m(self, key)\u001b[0m\n\u001b[0;32m    958\u001b[0m     key \u001b[39m=\u001b[39m \u001b[39mtuple\u001b[39m(com\u001b[39m.\u001b[39mapply_if_callable(x, \u001b[39mself\u001b[39m\u001b[39m.\u001b[39mobj) \u001b[39mfor\u001b[39;00m x \u001b[39min\u001b[39;00m key)\n\u001b[0;32m    959\u001b[0m     \u001b[39mif\u001b[39;00m \u001b[39mself\u001b[39m\u001b[39m.\u001b[39m_is_scalar_access(key):\n\u001b[1;32m--> 960\u001b[0m         \u001b[39mreturn\u001b[39;00m \u001b[39mself\u001b[39;49m\u001b[39m.\u001b[39;49mobj\u001b[39m.\u001b[39;49m_get_value(\u001b[39m*\u001b[39;49mkey, takeable\u001b[39m=\u001b[39;49m\u001b[39mself\u001b[39;49m\u001b[39m.\u001b[39;49m_takeable)\n\u001b[0;32m    961\u001b[0m     \u001b[39mreturn\u001b[39;00m \u001b[39mself\u001b[39m\u001b[39m.\u001b[39m_getitem_tuple(key)\n\u001b[0;32m    962\u001b[0m \u001b[39melse\u001b[39;00m:\n\u001b[0;32m    963\u001b[0m     \u001b[39m# we by definition only have the 0th axis\u001b[39;00m\n",
      "File \u001b[1;32mc:\\Users\\suvit\\anaconda3\\lib\\site-packages\\pandas\\core\\frame.py:3612\u001b[0m, in \u001b[0;36mDataFrame._get_value\u001b[1;34m(self, index, col, takeable)\u001b[0m\n\u001b[0;32m   3593\u001b[0m \u001b[39m\"\"\"\u001b[39;00m\n\u001b[0;32m   3594\u001b[0m \u001b[39mQuickly retrieve single value at passed column and index.\u001b[39;00m\n\u001b[0;32m   3595\u001b[0m \n\u001b[1;32m   (...)\u001b[0m\n\u001b[0;32m   3609\u001b[0m \u001b[39m`self.columns._index_as_unique`; Caller is responsible for checking.\u001b[39;00m\n\u001b[0;32m   3610\u001b[0m \u001b[39m\"\"\"\u001b[39;00m\n\u001b[0;32m   3611\u001b[0m \u001b[39mif\u001b[39;00m takeable:\n\u001b[1;32m-> 3612\u001b[0m     series \u001b[39m=\u001b[39m \u001b[39mself\u001b[39;49m\u001b[39m.\u001b[39;49m_ixs(col, axis\u001b[39m=\u001b[39;49m\u001b[39m1\u001b[39;49m)\n\u001b[0;32m   3613\u001b[0m     \u001b[39mreturn\u001b[39;00m series\u001b[39m.\u001b[39m_values[index]\n\u001b[0;32m   3615\u001b[0m series \u001b[39m=\u001b[39m \u001b[39mself\u001b[39m\u001b[39m.\u001b[39m_get_item_cache(col)\n",
      "File \u001b[1;32mc:\\Users\\suvit\\anaconda3\\lib\\site-packages\\pandas\\core\\frame.py:3442\u001b[0m, in \u001b[0;36mDataFrame._ixs\u001b[1;34m(self, i, axis)\u001b[0m\n\u001b[0;32m   3439\u001b[0m label \u001b[39m=\u001b[39m \u001b[39mself\u001b[39m\u001b[39m.\u001b[39mcolumns[i]\n\u001b[0;32m   3441\u001b[0m col_mgr \u001b[39m=\u001b[39m \u001b[39mself\u001b[39m\u001b[39m.\u001b[39m_mgr\u001b[39m.\u001b[39miget(i)\n\u001b[1;32m-> 3442\u001b[0m result \u001b[39m=\u001b[39m \u001b[39mself\u001b[39;49m\u001b[39m.\u001b[39;49m_box_col_values(col_mgr, i)\n\u001b[0;32m   3444\u001b[0m \u001b[39m# this is a cached value, mark it so\u001b[39;00m\n\u001b[0;32m   3445\u001b[0m result\u001b[39m.\u001b[39m_set_as_cached(label, \u001b[39mself\u001b[39m)\n",
      "File \u001b[1;32mc:\\Users\\suvit\\anaconda3\\lib\\site-packages\\pandas\\core\\frame.py:3915\u001b[0m, in \u001b[0;36mDataFrame._box_col_values\u001b[1;34m(self, values, loc)\u001b[0m\n\u001b[0;32m   3913\u001b[0m klass \u001b[39m=\u001b[39m \u001b[39mself\u001b[39m\u001b[39m.\u001b[39m_constructor_sliced\n\u001b[0;32m   3914\u001b[0m \u001b[39m# We get index=self.index bc values is a SingleDataManager\u001b[39;00m\n\u001b[1;32m-> 3915\u001b[0m \u001b[39mreturn\u001b[39;00m klass(values, name\u001b[39m=\u001b[39;49mname, fastpath\u001b[39m=\u001b[39;49m\u001b[39mTrue\u001b[39;49;00m)\u001b[39m.\u001b[39m__finalize__(\u001b[39mself\u001b[39m)\n",
      "File \u001b[1;32mc:\\Users\\suvit\\anaconda3\\lib\\site-packages\\pandas\\core\\series.py:334\u001b[0m, in \u001b[0;36mSeries.__init__\u001b[1;34m(self, data, index, dtype, name, copy, fastpath)\u001b[0m\n\u001b[0;32m    323\u001b[0m \u001b[39mdef\u001b[39;00m \u001b[39m__init__\u001b[39m(\n\u001b[0;32m    324\u001b[0m     \u001b[39mself\u001b[39m,\n\u001b[0;32m    325\u001b[0m     data\u001b[39m=\u001b[39m\u001b[39mNone\u001b[39;00m,\n\u001b[1;32m   (...)\u001b[0m\n\u001b[0;32m    330\u001b[0m     fastpath: \u001b[39mbool\u001b[39m \u001b[39m=\u001b[39m \u001b[39mFalse\u001b[39;00m,\n\u001b[0;32m    331\u001b[0m ):\n\u001b[0;32m    333\u001b[0m     \u001b[39mif\u001b[39;00m (\n\u001b[1;32m--> 334\u001b[0m         \u001b[39misinstance\u001b[39m(data, (SingleBlockManager, SingleArrayManager))\n\u001b[0;32m    335\u001b[0m         \u001b[39mand\u001b[39;00m index \u001b[39mis\u001b[39;00m \u001b[39mNone\u001b[39;00m\n\u001b[0;32m    336\u001b[0m         \u001b[39mand\u001b[39;00m dtype \u001b[39mis\u001b[39;00m \u001b[39mNone\u001b[39;00m\n\u001b[0;32m    337\u001b[0m         \u001b[39mand\u001b[39;00m copy \u001b[39mis\u001b[39;00m \u001b[39mFalse\u001b[39;00m\n\u001b[0;32m    338\u001b[0m     ):\n\u001b[0;32m    339\u001b[0m         \u001b[39m# GH#33357 called with just the SingleBlockManager\u001b[39;00m\n\u001b[0;32m    340\u001b[0m         NDFrame\u001b[39m.\u001b[39m\u001b[39m__init__\u001b[39m(\u001b[39mself\u001b[39m, data)\n\u001b[0;32m    341\u001b[0m         \u001b[39mif\u001b[39;00m fastpath:\n\u001b[0;32m    342\u001b[0m             \u001b[39m# e.g. from _box_col_values, skip validation of name\u001b[39;00m\n",
      "\u001b[1;31mKeyboardInterrupt\u001b[0m: "
     ]
    }
   ],
   "source": [
    "# merging categorised businesses to positive reviews\n",
    "\n",
    "def merge_review(bus_frame, rev_frame):\n",
    "    for i in range(len(reviews)):\n",
    "        id = reviews.iloc[i, 0]\n",
    "        for j in range(len(bus_frame)):\n",
    "            id_bus = bus_frame.iloc[j, 0]\n",
    "            if id_bus == id:\n",
    "                row = pd.concat([bus_frame.iloc[j], reviews.iloc[i].rename({'business_id': 'id'}).drop('id')])\n",
    "                rev_frame = rev_frame.append(row, ignore_index=True)\n",
    "\n",
    "merge_review(activities, activities_review)\n",
    "print('1')\n",
    "merge_review(beauty, beauty_review)\n",
    "print('2')\n",
    "merge_review(food, food_review)\n",
    "print('3')\n",
    "merge_review(health, health_review)\n",
    "print('4')\n",
    "merge_review(nightlife, nightlife_review)\n",
    "print('5')\n",
    "merge_review(pets, pets_review)\n",
    "print('6')\n",
    "merge_review(services, services_review)\n",
    "print('7')\n",
    "merge_review(stores, stores_review)\n",
    "print('8')"
   ]
  },
  {
   "cell_type": "code",
   "execution_count": null,
   "metadata": {},
   "outputs": [],
   "source": [
    "# saving merged businesses per category into files\n",
    "\n",
    "with open('../categories/activities_review.json', 'w') as f:\n",
    "    f.write(activities_review.to_json(orient=\"records\"))\n",
    "\n",
    "with open('../categories/beauty_review.json', 'w') as f:\n",
    "    f.write(beauty_review.to_json(orient=\"records\"))\n",
    "\n",
    "with open('../categories/food_review.json', 'w') as f:\n",
    "    f.write(food_review.to_json(orient=\"records\"))\n",
    "\n",
    "with open('../categories/health_review.json', 'w') as f:\n",
    "    f.write(health_review.to_json(orient=\"records\"))\n",
    "\n",
    "with open('../categories/nightlife_review.json', 'w') as f:\n",
    "    f.write(nightlife_review.to_json(orient=\"records\"))\n",
    "\n",
    "with open('../categories/pets_review.json', 'w') as f:\n",
    "    f.write(pets_review.to_json(orient=\"records\"))\n",
    "\n",
    "with open('../categories/services_review.json', 'w') as f:\n",
    "    f.write(services_review.to_json(orient=\"records\"))\n",
    "\n",
    "with open('../categories/stores_review.json', 'w') as f:\n",
    "    f.write(stores_review.to_json(orient=\"records\"))"
   ]
  }
 ],
 "metadata": {
  "kernelspec": {
   "display_name": "Python 3.9.12 ('base')",
   "language": "python",
   "name": "python3"
  },
  "language_info": {
   "codemirror_mode": {
    "name": "ipython",
    "version": 3
   },
   "file_extension": ".py",
   "mimetype": "text/x-python",
   "name": "python",
   "nbconvert_exporter": "python",
   "pygments_lexer": "ipython3",
   "version": "3.9.12"
  },
  "orig_nbformat": 4,
  "vscode": {
   "interpreter": {
    "hash": "d58ea69fd4be483072a57c0f3d43c49afe88d95673704247309f5e6f4d8a2dae"
   }
  }
 },
 "nbformat": 4,
 "nbformat_minor": 2
}
