{
 "cells": [
  {
   "cell_type": "markdown",
   "metadata": {},
   "source": [
    "DIVIDING BUSINESSES INTO CATEGORIES"
   ]
  },
  {
   "cell_type": "code",
   "execution_count": 1,
   "metadata": {},
   "outputs": [],
   "source": [
    "# uploading category files into arrays\n",
    "\n",
    "import pandas as pd\n",
    "\n",
    "# when running, change to own local paths\n",
    "with open('categories/activities.txt') as f: \n",
    "    cat_activities = pd.Series(f.read().splitlines())\n",
    "\n",
    "with open('categories/beauty.txt') as f: \n",
    "    cat_beauty = pd.Series(f.read().splitlines())\n",
    "\n",
    "with open('categories/food.txt') as f: \n",
    "    cat_food = pd.Series(f.read().splitlines())\n",
    "\n",
    "with open('categories/health.txt') as f: \n",
    "    cat_health = pd.Series(f.read().splitlines())\n",
    "\n",
    "with open('categories/nightlife.txt') as f: \n",
    "    cat_nightlife = pd.Series(f.read().splitlines())\n",
    "\n",
    "with open('categories/pets.txt') as f: \n",
    "    cat_pets = pd.Series(f.read().splitlines())\n",
    "\n",
    "with open('categories/services.txt') as f: \n",
    "    cat_services = pd.Series(f.read().splitlines())\n",
    "\n",
    "with open('categories/stores.txt') as f: \n",
    "    cat_stores = pd.Series(f.read().splitlines())"
   ]
  },
  {
   "cell_type": "code",
   "execution_count": 2,
   "metadata": {},
   "outputs": [],
   "source": [
    "# uploading businesses into dataframe\n",
    "\n",
    "df = pd.read_json('files/business.json')\n",
    "df = df.loc[df['stars'] > 3]"
   ]
  },
  {
   "cell_type": "code",
   "execution_count": 3,
   "metadata": {},
   "outputs": [],
   "source": [
    "# initializing category dataframes\n",
    "\n",
    "activities = pd.DataFrame()\n",
    "beauty = pd.DataFrame()\n",
    "food = pd.DataFrame()\n",
    "health = pd.DataFrame()\n",
    "nightlife = pd.DataFrame()\n",
    "pets = pd.DataFrame()\n",
    "services = pd.DataFrame()\n",
    "stores = pd.DataFrame()"
   ]
  },
  {
   "cell_type": "code",
   "execution_count": 4,
   "metadata": {},
   "outputs": [
    {
     "name": "stdout",
     "output_type": "stream",
     "text": [
      "0\n"
     ]
    },
    {
     "ename": "KeyboardInterrupt",
     "evalue": "",
     "output_type": "error",
     "traceback": [
      "\u001b[1;31m---------------------------------------------------------------------------\u001b[0m",
      "\u001b[1;31mKeyboardInterrupt\u001b[0m                         Traceback (most recent call last)",
      "\u001b[1;32mc:\\Users\\suvit\\OneDrive - University of Helsinki\\Documents\\IntroDS\\IntroDS-miniproject\\categorisation.ipynb Cell 5\u001b[0m in \u001b[0;36m<cell line: 6>\u001b[1;34m()\u001b[0m\n\u001b[0;32m     <a href='vscode-notebook-cell:/c%3A/Users/suvit/OneDrive%20-%20University%20of%20Helsinki/Documents/IntroDS/IntroDS-miniproject/categorisation.ipynb#W4sZmlsZQ%3D%3D?line=14'>15</a>\u001b[0m \u001b[39mif\u001b[39;00m \u001b[39mnot\u001b[39;00m pd\u001b[39m.\u001b[39mSeries(\u001b[39mlist\u001b[39m(\u001b[39mset\u001b[39m(cat) \u001b[39m&\u001b[39m \u001b[39mset\u001b[39m(cat_activities)))\u001b[39m.\u001b[39mempty:\n\u001b[0;32m     <a href='vscode-notebook-cell:/c%3A/Users/suvit/OneDrive%20-%20University%20of%20Helsinki/Documents/IntroDS/IntroDS-miniproject/categorisation.ipynb#W4sZmlsZQ%3D%3D?line=15'>16</a>\u001b[0m     activities \u001b[39m=\u001b[39m activities\u001b[39m.\u001b[39mappend(pd\u001b[39m.\u001b[39mSeries(df\u001b[39m.\u001b[39miloc[i]), ignore_index\u001b[39m=\u001b[39m\u001b[39mTrue\u001b[39;00m)\n\u001b[1;32m---> <a href='vscode-notebook-cell:/c%3A/Users/suvit/OneDrive%20-%20University%20of%20Helsinki/Documents/IntroDS/IntroDS-miniproject/categorisation.ipynb#W4sZmlsZQ%3D%3D?line=17'>18</a>\u001b[0m \u001b[39mif\u001b[39;00m \u001b[39mnot\u001b[39;00m pd\u001b[39m.\u001b[39;49mSeries(\u001b[39mlist\u001b[39;49m(\u001b[39mset\u001b[39;49m(cat) \u001b[39m&\u001b[39;49m \u001b[39mset\u001b[39;49m(cat_beauty)))\u001b[39m.\u001b[39mempty:\n\u001b[0;32m     <a href='vscode-notebook-cell:/c%3A/Users/suvit/OneDrive%20-%20University%20of%20Helsinki/Documents/IntroDS/IntroDS-miniproject/categorisation.ipynb#W4sZmlsZQ%3D%3D?line=18'>19</a>\u001b[0m     beauty \u001b[39m=\u001b[39m beauty\u001b[39m.\u001b[39mappend(pd\u001b[39m.\u001b[39mSeries(df\u001b[39m.\u001b[39miloc[i]), ignore_index\u001b[39m=\u001b[39m\u001b[39mTrue\u001b[39;00m)\n\u001b[0;32m     <a href='vscode-notebook-cell:/c%3A/Users/suvit/OneDrive%20-%20University%20of%20Helsinki/Documents/IntroDS/IntroDS-miniproject/categorisation.ipynb#W4sZmlsZQ%3D%3D?line=20'>21</a>\u001b[0m \u001b[39mif\u001b[39;00m \u001b[39mnot\u001b[39;00m pd\u001b[39m.\u001b[39mSeries(\u001b[39mlist\u001b[39m(\u001b[39mset\u001b[39m(cat) \u001b[39m&\u001b[39m \u001b[39mset\u001b[39m(cat_food)))\u001b[39m.\u001b[39mempty:\n",
      "File \u001b[1;32mc:\\Users\\suvit\\anaconda3\\lib\\site-packages\\pandas\\core\\series.py:374\u001b[0m, in \u001b[0;36mSeries.__init__\u001b[1;34m(self, data, index, dtype, name, copy, fastpath)\u001b[0m\n\u001b[0;32m    365\u001b[0m name \u001b[39m=\u001b[39m ibase\u001b[39m.\u001b[39mmaybe_extract_name(name, data, \u001b[39mtype\u001b[39m(\u001b[39mself\u001b[39m))\n\u001b[0;32m    367\u001b[0m \u001b[39mif\u001b[39;00m is_empty_data(data) \u001b[39mand\u001b[39;00m dtype \u001b[39mis\u001b[39;00m \u001b[39mNone\u001b[39;00m:\n\u001b[0;32m    368\u001b[0m     \u001b[39m# gh-17261\u001b[39;00m\n\u001b[0;32m    369\u001b[0m     warnings\u001b[39m.\u001b[39mwarn(\n\u001b[0;32m    370\u001b[0m         \u001b[39m\"\u001b[39m\u001b[39mThe default dtype for empty Series will be \u001b[39m\u001b[39m'\u001b[39m\u001b[39mobject\u001b[39m\u001b[39m'\u001b[39m\u001b[39m instead \u001b[39m\u001b[39m\"\u001b[39m\n\u001b[0;32m    371\u001b[0m         \u001b[39m\"\u001b[39m\u001b[39mof \u001b[39m\u001b[39m'\u001b[39m\u001b[39mfloat64\u001b[39m\u001b[39m'\u001b[39m\u001b[39m in a future version. Specify a dtype explicitly \u001b[39m\u001b[39m\"\u001b[39m\n\u001b[0;32m    372\u001b[0m         \u001b[39m\"\u001b[39m\u001b[39mto silence this warning.\u001b[39m\u001b[39m\"\u001b[39m,\n\u001b[0;32m    373\u001b[0m         \u001b[39mFutureWarning\u001b[39;00m,\n\u001b[1;32m--> 374\u001b[0m         stacklevel\u001b[39m=\u001b[39mfind_stack_level(),\n\u001b[0;32m    375\u001b[0m     )\n\u001b[0;32m    376\u001b[0m     \u001b[39m# uncomment the line below when removing the FutureWarning\u001b[39;00m\n\u001b[0;32m    377\u001b[0m     \u001b[39m# dtype = np.dtype(object)\u001b[39;00m\n\u001b[0;32m    379\u001b[0m \u001b[39mif\u001b[39;00m index \u001b[39mis\u001b[39;00m \u001b[39mnot\u001b[39;00m \u001b[39mNone\u001b[39;00m:\n",
      "File \u001b[1;32mc:\\Users\\suvit\\anaconda3\\lib\\site-packages\\pandas\\util\\_exceptions.py:32\u001b[0m, in \u001b[0;36mfind_stack_level\u001b[1;34m()\u001b[0m\n\u001b[0;32m     27\u001b[0m \u001b[39mdef\u001b[39;00m \u001b[39mfind_stack_level\u001b[39m() \u001b[39m-\u001b[39m\u001b[39m>\u001b[39m \u001b[39mint\u001b[39m:\n\u001b[0;32m     28\u001b[0m     \u001b[39m\"\"\"\u001b[39;00m\n\u001b[0;32m     29\u001b[0m \u001b[39m    Find the first place in the stack that is not inside pandas\u001b[39;00m\n\u001b[0;32m     30\u001b[0m \u001b[39m    (tests notwithstanding).\u001b[39;00m\n\u001b[0;32m     31\u001b[0m \u001b[39m    \"\"\"\u001b[39;00m\n\u001b[1;32m---> 32\u001b[0m     stack \u001b[39m=\u001b[39m inspect\u001b[39m.\u001b[39;49mstack()\n\u001b[0;32m     34\u001b[0m     \u001b[39mimport\u001b[39;00m \u001b[39mpandas\u001b[39;00m \u001b[39mas\u001b[39;00m \u001b[39mpd\u001b[39;00m\n\u001b[0;32m     36\u001b[0m     pkg_dir \u001b[39m=\u001b[39m os\u001b[39m.\u001b[39mpath\u001b[39m.\u001b[39mdirname(pd\u001b[39m.\u001b[39m\u001b[39m__file__\u001b[39m)\n",
      "File \u001b[1;32mc:\\Users\\suvit\\anaconda3\\lib\\inspect.py:1554\u001b[0m, in \u001b[0;36mstack\u001b[1;34m(context)\u001b[0m\n\u001b[0;32m   1552\u001b[0m \u001b[39mdef\u001b[39;00m \u001b[39mstack\u001b[39m(context\u001b[39m=\u001b[39m\u001b[39m1\u001b[39m):\n\u001b[0;32m   1553\u001b[0m     \u001b[39m\"\"\"Return a list of records for the stack above the caller's frame.\"\"\"\u001b[39;00m\n\u001b[1;32m-> 1554\u001b[0m     \u001b[39mreturn\u001b[39;00m getouterframes(sys\u001b[39m.\u001b[39;49m_getframe(\u001b[39m1\u001b[39;49m), context)\n",
      "File \u001b[1;32mc:\\Users\\suvit\\anaconda3\\lib\\inspect.py:1531\u001b[0m, in \u001b[0;36mgetouterframes\u001b[1;34m(frame, context)\u001b[0m\n\u001b[0;32m   1529\u001b[0m framelist \u001b[39m=\u001b[39m []\n\u001b[0;32m   1530\u001b[0m \u001b[39mwhile\u001b[39;00m frame:\n\u001b[1;32m-> 1531\u001b[0m     frameinfo \u001b[39m=\u001b[39m (frame,) \u001b[39m+\u001b[39m getframeinfo(frame, context)\n\u001b[0;32m   1532\u001b[0m     framelist\u001b[39m.\u001b[39mappend(FrameInfo(\u001b[39m*\u001b[39mframeinfo))\n\u001b[0;32m   1533\u001b[0m     frame \u001b[39m=\u001b[39m frame\u001b[39m.\u001b[39mf_back\n",
      "File \u001b[1;32mc:\\Users\\suvit\\anaconda3\\lib\\inspect.py:1501\u001b[0m, in \u001b[0;36mgetframeinfo\u001b[1;34m(frame, context)\u001b[0m\n\u001b[0;32m   1498\u001b[0m \u001b[39mif\u001b[39;00m \u001b[39mnot\u001b[39;00m isframe(frame):\n\u001b[0;32m   1499\u001b[0m     \u001b[39mraise\u001b[39;00m \u001b[39mTypeError\u001b[39;00m(\u001b[39m'\u001b[39m\u001b[39m{!r}\u001b[39;00m\u001b[39m is not a frame or traceback object\u001b[39m\u001b[39m'\u001b[39m\u001b[39m.\u001b[39mformat(frame))\n\u001b[1;32m-> 1501\u001b[0m filename \u001b[39m=\u001b[39m getsourcefile(frame) \u001b[39mor\u001b[39;00m getfile(frame)\n\u001b[0;32m   1502\u001b[0m \u001b[39mif\u001b[39;00m context \u001b[39m>\u001b[39m \u001b[39m0\u001b[39m:\n\u001b[0;32m   1503\u001b[0m     start \u001b[39m=\u001b[39m lineno \u001b[39m-\u001b[39m \u001b[39m1\u001b[39m \u001b[39m-\u001b[39m context\u001b[39m/\u001b[39m\u001b[39m/\u001b[39m\u001b[39m2\u001b[39m\n",
      "File \u001b[1;32mc:\\Users\\suvit\\anaconda3\\lib\\inspect.py:706\u001b[0m, in \u001b[0;36mgetsourcefile\u001b[1;34m(object)\u001b[0m\n\u001b[0;32m    703\u001b[0m \u001b[39melif\u001b[39;00m \u001b[39many\u001b[39m(filename\u001b[39m.\u001b[39mendswith(s) \u001b[39mfor\u001b[39;00m s \u001b[39min\u001b[39;00m\n\u001b[0;32m    704\u001b[0m              importlib\u001b[39m.\u001b[39mmachinery\u001b[39m.\u001b[39mEXTENSION_SUFFIXES):\n\u001b[0;32m    705\u001b[0m     \u001b[39mreturn\u001b[39;00m \u001b[39mNone\u001b[39;00m\n\u001b[1;32m--> 706\u001b[0m \u001b[39mif\u001b[39;00m os\u001b[39m.\u001b[39;49mpath\u001b[39m.\u001b[39;49mexists(filename):\n\u001b[0;32m    707\u001b[0m     \u001b[39mreturn\u001b[39;00m filename\n\u001b[0;32m    708\u001b[0m \u001b[39m# only return a non-existent filename if the module has a PEP 302 loader\u001b[39;00m\n",
      "File \u001b[1;32mc:\\Users\\suvit\\anaconda3\\lib\\genericpath.py:19\u001b[0m, in \u001b[0;36mexists\u001b[1;34m(path)\u001b[0m\n\u001b[0;32m     17\u001b[0m \u001b[39m\"\"\"Test whether a path exists.  Returns False for broken symbolic links\"\"\"\u001b[39;00m\n\u001b[0;32m     18\u001b[0m \u001b[39mtry\u001b[39;00m:\n\u001b[1;32m---> 19\u001b[0m     os\u001b[39m.\u001b[39;49mstat(path)\n\u001b[0;32m     20\u001b[0m \u001b[39mexcept\u001b[39;00m (\u001b[39mOSError\u001b[39;00m, \u001b[39mValueError\u001b[39;00m):\n\u001b[0;32m     21\u001b[0m     \u001b[39mreturn\u001b[39;00m \u001b[39mFalse\u001b[39;00m\n",
      "\u001b[1;31mKeyboardInterrupt\u001b[0m: "
     ]
    }
   ],
   "source": [
    "# dividing businesses into categories\n",
    "\n",
    "import warnings\n",
    "warnings.filterwarnings(\"ignore\", category=FutureWarning)\n",
    "\n",
    "for i in range(len(df)):\n",
    "    if (i % 5000) == 0:\n",
    "        print(i)\n",
    "\n",
    "    cat = df.iloc[i]['categories']\n",
    "    if cat is None:\n",
    "        continue\n",
    "    cat = pd.Series(cat.replace(',', '').lower().split())\n",
    "\n",
    "    if not pd.Series(list(set(cat) & set(cat_activities))).empty:\n",
    "        activities = activities.append(pd.Series(df.iloc[i]), ignore_index=True)\n",
    "\n",
    "    if not pd.Series(list(set(cat) & set(cat_beauty))).empty:\n",
    "        beauty = beauty.append(pd.Series(df.iloc[i]), ignore_index=True)\n",
    "    \n",
    "    if not pd.Series(list(set(cat) & set(cat_food))).empty:\n",
    "        food = food.append(pd.Series(df.iloc[i]), ignore_index=True)\n",
    "\n",
    "    if not pd.Series(list(set(cat) & set(cat_health))).empty:\n",
    "        health = health.append(pd.Series(df.iloc[i]), ignore_index=True)\n",
    "\n",
    "    if not pd.Series(list(set(cat) & set(cat_nightlife))).empty:\n",
    "        nightlife = nightlife.append(pd.Series(df.iloc[i]), ignore_index=True)\n",
    "\n",
    "    if not pd.Series(list(set(cat) & set(cat_pets))).empty:\n",
    "        pets = pets.append(pd.Series(df.iloc[i]), ignore_index=True)\n",
    "\n",
    "    if not pd.Series(list(set(cat) & set(cat_services))).empty:\n",
    "        services = services.append(pd.Series(df.iloc[i]), ignore_index=True)\n",
    "\n",
    "    if not pd.Series(list(set(cat) & set(cat_stores))).empty:\n",
    "        stores = stores.append(pd.Series(df.iloc[i]), ignore_index=True)"
   ]
  },
  {
   "cell_type": "code",
   "execution_count": null,
   "metadata": {},
   "outputs": [],
   "source": [
    "print(activities.head())\n",
    "print(beauty.head())\n",
    "print(food.head())\n",
    "print(health.head())\n",
    "print(nightlife.head())\n",
    "print(pets.head())\n",
    "print(services.head())\n",
    "print(stores.head())"
   ]
  },
  {
   "cell_type": "code",
   "execution_count": 12,
   "metadata": {},
   "outputs": [],
   "source": [
    "# saving businesses per category into files\n",
    "\n",
    "with open('activities_business.json', 'w') as f:\n",
    "    f.write(activities.to_json(orient=\"records\"))\n",
    "\n",
    "with open('beauty_business.json', 'w') as f:\n",
    "    f.write(beauty.to_json(orient=\"records\"))\n",
    "\n",
    "with open('food_business.json', 'w') as f:\n",
    "    f.write(food.to_json(orient=\"records\"))\n",
    "\n",
    "with open('health_business.json', 'w') as f:\n",
    "    f.write(health.to_json(orient=\"records\"))\n",
    "\n",
    "with open('nightlife_business.json', 'w') as f:\n",
    "    f.write(nightlife.to_json(orient=\"records\"))\n",
    "\n",
    "with open('pets_business.json', 'w') as f:\n",
    "    f.write(pets.to_json(orient=\"records\"))\n",
    "\n",
    "with open('services_business.json', 'w') as f:\n",
    "    f.write(services.to_json(orient=\"records\"))\n",
    "\n",
    "with open('stores_business.json', 'w') as f:\n",
    "    f.write(stores.to_json(orient=\"records\"))"
   ]
  },
  {
   "cell_type": "code",
   "execution_count": null,
   "metadata": {},
   "outputs": [],
   "source": [
    "# uploading positive reviews into dataframe\n",
    "\n",
    "reviews = pd.read_json('files/review_pos.json')"
   ]
  },
  {
   "cell_type": "code",
   "execution_count": null,
   "metadata": {},
   "outputs": [],
   "source": [
    "# initializing categorised review dataframes\n",
    "\n",
    "activities_review = pd.DataFrame()\n",
    "beauty_review = pd.DataFrame()\n",
    "food_review = pd.DataFrame()\n",
    "health_review = pd.DataFrame()\n",
    "nightlife_review = pd.DataFrame()\n",
    "pets_review = pd.DataFrame()\n",
    "services_review = pd.DataFrame()\n",
    "stores_review = pd.DataFrame()"
   ]
  },
  {
   "cell_type": "code",
   "execution_count": null,
   "metadata": {},
   "outputs": [],
   "source": [
    "# merging categorised businesses to positive reviews\n",
    "\n",
    "def merge_review(bus_frame, rev_frame):\n",
    "    for i in range(len(reviews)):\n",
    "        id = reviews.loc[i, 2]\n",
    "        for j in range(len(bus_frame)):\n",
    "            id_bus = bus_frame.loc[j, 0]\n",
    "            if id_bus == id:\n",
    "                row = pd.merge(bus_frame.loc[j], reviews.loc[i], on='business_id')\n",
    "                rev_frame = rev_frame.append(row, ignore_index=True)\n",
    "\n",
    "merge_review(activities, activities_review)\n",
    "merge_review(beauty, beauty_review)\n",
    "merge_review(food, food_review)\n",
    "merge_review(health, health_review)\n",
    "merge_review(nightlife, nightlife_review)\n",
    "merge_review(pets, pets_review)\n",
    "merge_review(services, services_review)\n",
    "merge_review(stores, stores_review)"
   ]
  }
 ],
 "metadata": {
  "kernelspec": {
   "display_name": "Python 3.9.12 ('base')",
   "language": "python",
   "name": "python3"
  },
  "language_info": {
   "codemirror_mode": {
    "name": "ipython",
    "version": 3
   },
   "file_extension": ".py",
   "mimetype": "text/x-python",
   "name": "python",
   "nbconvert_exporter": "python",
   "pygments_lexer": "ipython3",
   "version": "3.9.12"
  },
  "orig_nbformat": 4,
  "vscode": {
   "interpreter": {
    "hash": "d58ea69fd4be483072a57c0f3d43c49afe88d95673704247309f5e6f4d8a2dae"
   }
  }
 },
 "nbformat": 4,
 "nbformat_minor": 2
}
