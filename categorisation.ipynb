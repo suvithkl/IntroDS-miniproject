{
 "cells": [
  {
   "cell_type": "markdown",
   "metadata": {},
   "source": [
    "DIVIDING BUSINESSES INTO CATEGORIES"
   ]
  },
  {
   "cell_type": "code",
   "execution_count": 1,
   "metadata": {},
   "outputs": [],
   "source": [
    "# uploading category files into arrays\n",
    "\n",
    "# when running, change to own local paths\n",
    "with open('categories/activities.txt') as f: \n",
    "    cat_activities = list(f.read().splitlines())\n",
    "\n",
    "with open('categories/beauty.txt') as f: \n",
    "    cat_beauty = list(f.read().splitlines())\n",
    "\n",
    "with open('categories/food.txt') as f: \n",
    "    cat_food = list(f.read().splitlines())\n",
    "\n",
    "with open('categories/health.txt') as f: \n",
    "    cat_health = list(f.read().splitlines())\n",
    "\n",
    "with open('categories/nightlife.txt') as f: \n",
    "    cat_nightlife = list(f.read().splitlines())\n",
    "\n",
    "with open('categories/pets.txt') as f: \n",
    "    cat_pets = list(f.read().splitlines())\n",
    "\n",
    "with open('categories/services.txt') as f: \n",
    "    cat_services = list(f.read().splitlines())\n",
    "\n",
    "with open('categories/stores.txt') as f: \n",
    "    cat_stores = list(f.read().splitlines())"
   ]
  },
  {
   "cell_type": "code",
   "execution_count": 2,
   "metadata": {},
   "outputs": [],
   "source": [
    "# uploading businesses into dataframe\n",
    "\n",
    "import pandas as pd\n",
    "\n",
    "df = pd.read_json('files/business.json')\n",
    "df = df.loc[df['stars'] > 3]"
   ]
  },
  {
   "cell_type": "code",
   "execution_count": 3,
   "metadata": {},
   "outputs": [],
   "source": [
    "# initializing category dataframes\n",
    "\n",
    "activities = pd.DataFrame()\n",
    "beauty = pd.DataFrame()\n",
    "food = pd.DataFrame()\n",
    "health = pd.DataFrame()\n",
    "nightlife = pd.DataFrame()\n",
    "pets = pd.DataFrame()\n",
    "services = pd.DataFrame()\n",
    "stores = pd.DataFrame()"
   ]
  },
  {
   "cell_type": "code",
   "execution_count": 11,
   "metadata": {},
   "outputs": [
    {
     "ename": "AttributeError",
     "evalue": "'list' object has no attribute 'isin'",
     "output_type": "error",
     "traceback": [
      "\u001b[1;31m---------------------------------------------------------------------------\u001b[0m",
      "\u001b[1;31mAttributeError\u001b[0m                            Traceback (most recent call last)",
      "\u001b[1;32mc:\\Users\\suvit\\OneDrive - University of Helsinki\\Documents\\IntroDS\\IntroDS-miniproject\\categorisation.ipynb Cell 5\u001b[0m in \u001b[0;36m<cell line: 3>\u001b[1;34m()\u001b[0m\n\u001b[0;32m      <a href='vscode-notebook-cell:/c%3A/Users/suvit/OneDrive%20-%20University%20of%20Helsinki/Documents/IntroDS/IntroDS-miniproject/categorisation.ipynb#W4sZmlsZQ%3D%3D?line=5'>6</a>\u001b[0m     \u001b[39mcontinue\u001b[39;00m\n\u001b[0;32m      <a href='vscode-notebook-cell:/c%3A/Users/suvit/OneDrive%20-%20University%20of%20Helsinki/Documents/IntroDS/IntroDS-miniproject/categorisation.ipynb#W4sZmlsZQ%3D%3D?line=6'>7</a>\u001b[0m cat \u001b[39m=\u001b[39m cat\u001b[39m.\u001b[39mreplace(\u001b[39m'\u001b[39m\u001b[39m,\u001b[39m\u001b[39m'\u001b[39m, \u001b[39m'\u001b[39m\u001b[39m'\u001b[39m)\u001b[39m.\u001b[39mlower()\u001b[39m.\u001b[39msplit()\n\u001b[1;32m----> <a href='vscode-notebook-cell:/c%3A/Users/suvit/OneDrive%20-%20University%20of%20Helsinki/Documents/IntroDS/IntroDS-miniproject/categorisation.ipynb#W4sZmlsZQ%3D%3D?line=8'>9</a>\u001b[0m \u001b[39mif\u001b[39;00m cat\u001b[39m.\u001b[39;49misin(cat_activities):\n\u001b[0;32m     <a href='vscode-notebook-cell:/c%3A/Users/suvit/OneDrive%20-%20University%20of%20Helsinki/Documents/IntroDS/IntroDS-miniproject/categorisation.ipynb#W4sZmlsZQ%3D%3D?line=9'>10</a>\u001b[0m     activities \u001b[39m=\u001b[39m activities\u001b[39m.\u001b[39mappend(pd\u001b[39m.\u001b[39mSeries(df\u001b[39m.\u001b[39miloc[i]), ignore_index\u001b[39m=\u001b[39m\u001b[39mTrue\u001b[39;00m)\n\u001b[0;32m     <a href='vscode-notebook-cell:/c%3A/Users/suvit/OneDrive%20-%20University%20of%20Helsinki/Documents/IntroDS/IntroDS-miniproject/categorisation.ipynb#W4sZmlsZQ%3D%3D?line=11'>12</a>\u001b[0m \u001b[39mif\u001b[39;00m cat\u001b[39m.\u001b[39misin(cat_beauty):\n",
      "\u001b[1;31mAttributeError\u001b[0m: 'list' object has no attribute 'isin'"
     ]
    }
   ],
   "source": [
    "# dividing businesses into categories\n",
    "\n",
    "for i in range(len(df)):\n",
    "    cat = df.iloc[i]['categories']\n",
    "    if cat is None:\n",
    "        continue\n",
    "    cat = cat.replace(',', '').lower().split()\n",
    "\n",
    "    if cat.isin(cat_activities):\n",
    "        activities = activities.append(pd.Series(df.iloc[i]), ignore_index=True)\n",
    "\n",
    "    if cat.isin(cat_beauty):\n",
    "        beauty = beauty.append(pd.Series(df.iloc[i]), ignore_index=True)\n",
    "    \n",
    "    if cat.isin(cat_food):\n",
    "        food = food.append(pd.Series(df.iloc[i]), ignore_index=True)\n",
    "\n",
    "    if cat.isin(cat_health):\n",
    "        health = health.append(pd.Series(df.iloc[i]), ignore_index=True)\n",
    "\n",
    "    if cat.isin(cat_nightlife):\n",
    "        nightlife = nightlife.append(pd.Series(df.iloc[i]), ignore_index=True)\n",
    "\n",
    "    if cat.isin(cat_pets):\n",
    "        pets = pets.append(pd.Series(df.iloc[i]), ignore_index=True)\n",
    "\n",
    "    if cat.isin(cat_services):\n",
    "        services = services.append(pd.Series(df.iloc[i]), ignore_index=True)\n",
    "\n",
    "    if cat.isin(cat_stores):\n",
    "        stores = stores.append(pd.Series(df.iloc[i]), ignore_index=True)"
   ]
  },
  {
   "cell_type": "code",
   "execution_count": 12,
   "metadata": {},
   "outputs": [],
   "source": [
    "# saving businesses per category into files\n",
    "\n",
    "with open('activities_business.json', 'w') as f:\n",
    "    f.write(activities.to_json(orient=\"records\"))\n",
    "\n",
    "with open('beauty_business.json', 'w') as f:\n",
    "    f.write(beauty.to_json(orient=\"records\"))\n",
    "\n",
    "with open('food_business.json', 'w') as f:\n",
    "    f.write(food.to_json(orient=\"records\"))\n",
    "\n",
    "with open('health_business.json', 'w') as f:\n",
    "    f.write(health.to_json(orient=\"records\"))\n",
    "\n",
    "with open('nightlife_business.json', 'w') as f:\n",
    "    f.write(nightlife.to_json(orient=\"records\"))\n",
    "\n",
    "with open('pets_business.json', 'w') as f:\n",
    "    f.write(pets.to_json(orient=\"records\"))\n",
    "\n",
    "with open('services_business.json', 'w') as f:\n",
    "    f.write(services.to_json(orient=\"records\"))\n",
    "\n",
    "with open('stores_business.json', 'w') as f:\n",
    "    f.write(stores.to_json(orient=\"records\"))"
   ]
  },
  {
   "cell_type": "code",
   "execution_count": null,
   "metadata": {},
   "outputs": [],
   "source": [
    "# uploading positive reviews into dataframe\n",
    "\n",
    "reviews = pd.read_json('files/review_pos.json')"
   ]
  },
  {
   "cell_type": "code",
   "execution_count": null,
   "metadata": {},
   "outputs": [],
   "source": [
    "# initializing categorised review dataframes\n",
    "\n",
    "activities_review = pd.DataFrame()\n",
    "beauty_review = pd.DataFrame()\n",
    "food_review = pd.DataFrame()\n",
    "health_review = pd.DataFrame()\n",
    "nightlife_review = pd.DataFrame()\n",
    "pets_review = pd.DataFrame()\n",
    "services_review = pd.DataFrame()\n",
    "stores_review = pd.DataFrame()"
   ]
  },
  {
   "cell_type": "code",
   "execution_count": null,
   "metadata": {},
   "outputs": [],
   "source": [
    "# merging categorised businesses to positive reviews\n",
    "\n",
    "def merge_review(bus_frame, rev_frame):\n",
    "    for i in range(len(reviews)):\n",
    "        id = reviews.loc[i, 2]\n",
    "        for j in range(len(bus_frame)):\n",
    "            id_bus = bus_frame.loc[j, 0]\n",
    "            if id_bus == id:\n",
    "                row = pd.merge(bus_frame.loc[j], reviews.loc[i], on='business_id')\n",
    "                rev_frame = rev_frame.append(row, ignore_index=True)\n",
    "\n",
    "merge_review(activities, activities_review)\n",
    "merge_review(beauty, beauty_review)\n",
    "merge_review(food, food_review)\n",
    "merge_review(health, health_review)\n",
    "merge_review(nightlife, nightlife_review)\n",
    "merge_review(pets, pets_review)\n",
    "merge_review(services, services_review)\n",
    "merge_review(stores, stores_review)"
   ]
  }
 ],
 "metadata": {
  "kernelspec": {
   "display_name": "Python 3.9.12 ('base')",
   "language": "python",
   "name": "python3"
  },
  "language_info": {
   "codemirror_mode": {
    "name": "ipython",
    "version": 3
   },
   "file_extension": ".py",
   "mimetype": "text/x-python",
   "name": "python",
   "nbconvert_exporter": "python",
   "pygments_lexer": "ipython3",
   "version": "3.9.12"
  },
  "orig_nbformat": 4,
  "vscode": {
   "interpreter": {
    "hash": "d58ea69fd4be483072a57c0f3d43c49afe88d95673704247309f5e6f4d8a2dae"
   }
  }
 },
 "nbformat": 4,
 "nbformat_minor": 2
}
