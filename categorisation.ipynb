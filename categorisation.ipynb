{
 "cells": [
  {
   "cell_type": "markdown",
   "metadata": {},
   "source": [
    "DIVIDING BUSINESSES INTO CATEGORIES"
   ]
  },
  {
   "cell_type": "code",
   "execution_count": 1,
   "metadata": {},
   "outputs": [],
   "source": [
    "# uploading category files into arrays\n",
    "\n",
    "import pandas as pd\n",
    "\n",
    "# when running, change to own local paths\n",
    "with open('categories/activities.txt') as f: \n",
    "    cat_activities = pd.Series(f.read().splitlines())\n",
    "\n",
    "with open('categories/beauty.txt') as f: \n",
    "    cat_beauty = pd.Series(f.read().splitlines())\n",
    "\n",
    "with open('categories/food.txt') as f: \n",
    "    cat_food = pd.Series(f.read().splitlines())\n",
    "\n",
    "with open('categories/health.txt') as f: \n",
    "    cat_health = pd.Series(f.read().splitlines())\n",
    "\n",
    "with open('categories/nightlife.txt') as f: \n",
    "    cat_nightlife = pd.Series(f.read().splitlines())\n",
    "\n",
    "with open('categories/pets.txt') as f: \n",
    "    cat_pets = pd.Series(f.read().splitlines())\n",
    "\n",
    "with open('categories/services.txt') as f: \n",
    "    cat_services = pd.Series(f.read().splitlines())\n",
    "\n",
    "with open('categories/stores.txt') as f: \n",
    "    cat_stores = pd.Series(f.read().splitlines())"
   ]
  },
  {
   "cell_type": "code",
   "execution_count": 2,
   "metadata": {},
   "outputs": [],
   "source": [
    "# uploading businesses into dataframe\n",
    "\n",
    "df = pd.read_json('files/business.json')\n",
    "df = df.loc[df['stars'] > 3]"
   ]
  },
  {
   "cell_type": "code",
   "execution_count": 3,
   "metadata": {},
   "outputs": [],
   "source": [
    "# initializing category dataframes\n",
    "\n",
    "activities = pd.DataFrame()\n",
    "beauty = pd.DataFrame()\n",
    "food = pd.DataFrame()\n",
    "health = pd.DataFrame()\n",
    "nightlife = pd.DataFrame()\n",
    "pets = pd.DataFrame()\n",
    "services = pd.DataFrame()\n",
    "stores = pd.DataFrame()"
   ]
  },
  {
   "cell_type": "code",
   "execution_count": 4,
   "metadata": {},
   "outputs": [
    {
     "name": "stdout",
     "output_type": "stream",
     "text": [
      "0\n",
      "5000\n",
      "10000\n",
      "15000\n",
      "20000\n",
      "25000\n",
      "30000\n",
      "35000\n",
      "40000\n",
      "45000\n",
      "50000\n",
      "55000\n",
      "60000\n",
      "65000\n",
      "70000\n",
      "75000\n",
      "80000\n",
      "85000\n",
      "90000\n",
      "95000\n",
      "100000\n"
     ]
    }
   ],
   "source": [
    "# dividing businesses into categories\n",
    "\n",
    "import warnings\n",
    "warnings.filterwarnings(\"ignore\", category=FutureWarning)\n",
    "\n",
    "for i in range(len(df)):\n",
    "    if (i % 5000) == 0:\n",
    "        print(i)\n",
    "\n",
    "    cat = df.iloc[i]['categories']\n",
    "    if cat is None:\n",
    "        continue\n",
    "    cat = pd.Series(cat.replace(',', '').lower().split())\n",
    "\n",
    "    if not pd.Series(list(set(cat) & set(cat_activities))).empty:\n",
    "        activities = activities.append(pd.Series(df.iloc[i]), ignore_index=True)\n",
    "\n",
    "    if not pd.Series(list(set(cat) & set(cat_beauty))).empty:\n",
    "        beauty = beauty.append(pd.Series(df.iloc[i]), ignore_index=True)\n",
    "    \n",
    "    if not pd.Series(list(set(cat) & set(cat_food))).empty:\n",
    "        food = food.append(pd.Series(df.iloc[i]), ignore_index=True)\n",
    "\n",
    "    if not pd.Series(list(set(cat) & set(cat_health))).empty:\n",
    "        health = health.append(pd.Series(df.iloc[i]), ignore_index=True)\n",
    "\n",
    "    if not pd.Series(list(set(cat) & set(cat_nightlife))).empty:\n",
    "        nightlife = nightlife.append(pd.Series(df.iloc[i]), ignore_index=True)\n",
    "\n",
    "    if not pd.Series(list(set(cat) & set(cat_pets))).empty:\n",
    "        pets = pets.append(pd.Series(df.iloc[i]), ignore_index=True)\n",
    "\n",
    "    if not pd.Series(list(set(cat) & set(cat_services))).empty:\n",
    "        services = services.append(pd.Series(df.iloc[i]), ignore_index=True)\n",
    "\n",
    "    if not pd.Series(list(set(cat) & set(cat_stores))).empty:\n",
    "        stores = stores.append(pd.Series(df.iloc[i]), ignore_index=True)"
   ]
  },
  {
   "cell_type": "code",
   "execution_count": 6,
   "metadata": {},
   "outputs": [],
   "source": [
    "# saving businesses per category into files\n",
    "\n",
    "with open('activities_business.json', 'w') as f:\n",
    "    f.write(activities.to_json(orient=\"records\"))\n",
    "\n",
    "with open('beauty_business.json', 'w') as f:\n",
    "    f.write(beauty.to_json(orient=\"records\"))\n",
    "\n",
    "with open('food_business.json', 'w') as f:\n",
    "    f.write(food.to_json(orient=\"records\"))\n",
    "\n",
    "with open('health_business.json', 'w') as f:\n",
    "    f.write(health.to_json(orient=\"records\"))\n",
    "\n",
    "with open('nightlife_business.json', 'w') as f:\n",
    "    f.write(nightlife.to_json(orient=\"records\"))\n",
    "\n",
    "with open('pets_business.json', 'w') as f:\n",
    "    f.write(pets.to_json(orient=\"records\"))\n",
    "\n",
    "with open('services_business.json', 'w') as f:\n",
    "    f.write(services.to_json(orient=\"records\"))\n",
    "\n",
    "with open('stores_business.json', 'w') as f:\n",
    "    f.write(stores.to_json(orient=\"records\"))"
   ]
  },
  {
   "cell_type": "code",
   "execution_count": 7,
   "metadata": {},
   "outputs": [],
   "source": [
    "# uploading positive reviews into dataframe\n",
    "\n",
    "reviews = pd.read_json('files/review_pos.json')"
   ]
  },
  {
   "cell_type": "code",
   "execution_count": 73,
   "metadata": {},
   "outputs": [],
   "source": [
    "# merging categorised businesses to positive reviews\n",
    "\n",
    "activities_review = pd.merge(activities, reviews, on='business_id')\n",
    "beauty_review = pd.merge(beauty, reviews, on='business_id')\n",
    "food_review = pd.merge(food, reviews, on='business_id')\n",
    "health_review = pd.merge(health, reviews, on='business_id')\n",
    "nightlife_review = pd.merge(nightlife, reviews, on='business_id')\n",
    "pets_review = pd.merge(pets, reviews, on='business_id')\n",
    "services_review = pd.merge(services, reviews, on='business_id')\n",
    "stores_review = pd.merge(stores, reviews, on='business_id')"
   ]
  },
  {
   "cell_type": "code",
   "execution_count": 75,
   "metadata": {},
   "outputs": [],
   "source": [
    "# saving merged businesses per category into files\n",
    "\n",
    "with open('activities_review.json', 'w') as f:\n",
    "    f.write(activities_review.to_json(orient=\"records\"))\n",
    "\n",
    "with open('beauty_review.json', 'w') as f:\n",
    "    f.write(beauty_review.to_json(orient=\"records\"))\n",
    "\n",
    "with open('food_review.json', 'w') as f:\n",
    "    f.write(food_review.to_json(orient=\"records\"))\n",
    "\n",
    "with open('health_review.json', 'w') as f:\n",
    "    f.write(health_review.to_json(orient=\"records\"))\n",
    "\n",
    "with open('nightlife_review.json', 'w') as f:\n",
    "    f.write(nightlife_review.to_json(orient=\"records\"))\n",
    "\n",
    "with open('pets_review.json', 'w') as f:\n",
    "    f.write(pets_review.to_json(orient=\"records\"))\n",
    "\n",
    "with open('services_review.json', 'w') as f:\n",
    "    f.write(services_review.to_json(orient=\"records\"))\n",
    "\n",
    "with open('stores_review.json', 'w') as f:\n",
    "    f.write(stores_review.to_json(orient=\"records\"))"
   ]
  },
  {
   "cell_type": "code",
   "execution_count": null,
   "metadata": {},
   "outputs": [],
   "source": [
    "# merging categorised businesses to positive reviews\n",
    "\n",
    "\"\"\"\n",
    "def merge_review(bus_frame, rev_frame, i):\n",
    "    for j in range(len(bus_frame)):\n",
    "        id_bus = bus_frame.iloc[j, 0]\n",
    "        if id_bus == id:\n",
    "            row = pd.concat([bus_frame.iloc[j], reviews.iloc[i].rename({'business_id': 'id'}).drop('id')])\n",
    "            rev_frame = rev_frame.append(row, ignore_index=True)\n",
    "\n",
    "for i in range(len(reviews)):\n",
    "    id = reviews.iloc[i, 0]\n",
    "    merge_review(activities, activities_review, i)\n",
    "    merge_review(beauty, beauty_review, i)\n",
    "    merge_review(food, food_review, i)\n",
    "    merge_review(health, health_review, i)\n",
    "    merge_review(nightlife, nightlife_review, i)\n",
    "    merge_review(pets, pets_review, i)\n",
    "    merge_review(services, services_review, i)\n",
    "    merge_review(stores, stores_review, i)\n",
    "\"\"\""
   ]
  }
 ],
 "metadata": {
  "kernelspec": {
   "display_name": "Python 3.9.12 ('base')",
   "language": "python",
   "name": "python3"
  },
  "language_info": {
   "codemirror_mode": {
    "name": "ipython",
    "version": 3
   },
   "file_extension": ".py",
   "mimetype": "text/x-python",
   "name": "python",
   "nbconvert_exporter": "python",
   "pygments_lexer": "ipython3",
   "version": "3.9.12"
  },
  "orig_nbformat": 4,
  "vscode": {
   "interpreter": {
    "hash": "d58ea69fd4be483072a57c0f3d43c49afe88d95673704247309f5e6f4d8a2dae"
   }
  }
 },
 "nbformat": 4,
 "nbformat_minor": 2
}
