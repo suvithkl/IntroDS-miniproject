{
 "cells": [
  {
   "cell_type": "markdown",
   "metadata": {},
   "source": [
    "DIVIDING BUSINESSES INTO CATEGORIES"
   ]
  },
  {
   "cell_type": "code",
   "execution_count": 1,
   "metadata": {},
   "outputs": [],
   "source": [
    "# uploading category files into arrays\n",
    "\n",
    "# when running, change to own local paths\n",
    "with open('categories/activities.txt') as f: \n",
    "    cat_activities = list(f.read().splitlines())\n",
    "\n",
    "with open('categories/beauty.txt') as f: \n",
    "    cat_beauty = list(f.read().splitlines())\n",
    "\n",
    "with open('categories/food.txt') as f: \n",
    "    cat_food = list(f.read().splitlines())\n",
    "\n",
    "with open('categories/health.txt') as f: \n",
    "    cat_health = list(f.read().splitlines())\n",
    "\n",
    "with open('categories/nightlife.txt') as f: \n",
    "    cat_nightlife = list(f.read().splitlines())\n",
    "\n",
    "with open('categories/pets.txt') as f: \n",
    "    cat_pets = list(f.read().splitlines())\n",
    "\n",
    "with open('categories/services.txt') as f: \n",
    "    cat_services = list(f.read().splitlines())\n",
    "\n",
    "with open('categories/stores.txt') as f: \n",
    "    cat_stores = list(f.read().splitlines())\n"
   ]
  },
  {
   "cell_type": "code",
   "execution_count": 16,
   "metadata": {},
   "outputs": [],
   "source": [
    "# uploading businesses into dataframe\n",
    "\n",
    "import pandas as pd\n",
    "\n",
    "df = pd.read_json('files/business_review_pos.json')"
   ]
  },
  {
   "cell_type": "code",
   "execution_count": 17,
   "metadata": {},
   "outputs": [],
   "source": [
    "# initializing category dataframes\n",
    "\n",
    "activities = pd.DataFrame()\n",
    "beauty = pd.DataFrame()\n",
    "food = pd.DataFrame()\n",
    "health = pd.DataFrame(columns=['business_id', 'name', 'city', 'latitude', 'longitude', 'stars', 'is_open', 'attributes', 'categories'])\n",
    "nightlife = pd.DataFrame()\n",
    "pets = pd.DataFrame()\n",
    "services = pd.DataFrame()\n",
    "stores = pd.DataFrame()"
   ]
  },
  {
   "cell_type": "code",
   "execution_count": 19,
   "metadata": {},
   "outputs": [
    {
     "name": "stdout",
     "output_type": "stream",
     "text": [
      "business_id                               Pns2l4eNsfO8kk83dixA6A\n",
      "name                                    Abby Rappoport, LAC, CMQ\n",
      "city                                               Santa Barbara\n",
      "latitude                                               34.426679\n",
      "longitude                                            -119.711197\n",
      "stars                                                        5.0\n",
      "is_open                                                        0\n",
      "attributes                         {'ByAppointmentOnly': 'True'}\n",
      "categories     Doctors, Traditional Chinese Medicine, Naturop...\n",
      "Name: 0, dtype: object\n"
     ]
    }
   ],
   "source": [
    "# dividing businesses into categories\n",
    "\n",
    "for i in range(1):\n",
    "    cat = df.iloc[i]['categories'].replace(',', '').lower().split()\n",
    "\n",
    "    for word in cat_activities:\n",
    "        if word in cat:\n",
    "            activities.loc[len(df.index)] = dict(df.iloc[i])\n",
    "\n",
    "    for word in cat_beauty:\n",
    "        if word in cat:\n",
    "            beauty.loc[len(df.index)] = dict(df.iloc[i])\n",
    "\n",
    "    for word in cat_food:\n",
    "        if word in cat:\n",
    "            food.loc[len(df.index)] = dict(df.iloc[i])\n",
    "\n",
    "    for word in cat_health:\n",
    "        if word in cat:\n",
    "            health.loc[len(df.index)] = dict(df.iloc[i])\n",
    "\n",
    "    for word in cat_nightlife:\n",
    "        if word in cat:\n",
    "            nightlife.loc[len(df.index)] = dict(df.iloc[i])\n",
    "\n",
    "    for word in cat_pets:\n",
    "        if word in cat:\n",
    "            pets.loc[len(df.index)] = dict(df.iloc[i])\n",
    "\n",
    "    for word in cat_services:\n",
    "        if word in cat:\n",
    "            services.loc[len(df.index)] = dict(df.iloc[i])\n",
    "\n",
    "    for word in cat_stores:\n",
    "        if word in cat:\n",
    "            stores.loc[len(df.index)] = dict(df.iloc[i])\n",
    "    "
   ]
  },
  {
   "cell_type": "code",
   "execution_count": null,
   "metadata": {},
   "outputs": [],
   "source": []
  }
 ],
 "metadata": {
  "kernelspec": {
   "display_name": "Python 3.9.12 ('base')",
   "language": "python",
   "name": "python3"
  },
  "language_info": {
   "codemirror_mode": {
    "name": "ipython",
    "version": 3
   },
   "file_extension": ".py",
   "mimetype": "text/x-python",
   "name": "python",
   "nbconvert_exporter": "python",
   "pygments_lexer": "ipython3",
   "version": "3.9.12"
  },
  "orig_nbformat": 4,
  "vscode": {
   "interpreter": {
    "hash": "d58ea69fd4be483072a57c0f3d43c49afe88d95673704247309f5e6f4d8a2dae"
   }
  }
 },
 "nbformat": 4,
 "nbformat_minor": 2
}
