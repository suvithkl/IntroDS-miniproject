{
 "cells": [
  {
   "cell_type": "markdown",
   "metadata": {},
   "source": [
    "IMPLEMENTING BAG OF WORDS"
   ]
  },
  {
   "cell_type": "code",
   "execution_count": 2,
   "metadata": {},
   "outputs": [],
   "source": [
    "# saving datafiles into dataframes\n",
    "\n",
    "import pandas as pd\n",
    "import numpy as np\n",
    "\n",
    "# when running, change to own local paths\n",
    "review_pos = pd.read_json('review_pos.json')\n",
    "review_neg = pd.read_json('review_neg.json')\n",
    "review_tip = pd.read_json('tip.json')\n",
    "\n",
    "pos = (' '.join(review_pos['text'].dropna()))\n",
    "neg = (' '.join(review_neg['text'].dropna()))\n",
    "tip = (' '.join(review_tip['text'].dropna()))"
   ]
  },
  {
   "cell_type": "code",
   "execution_count": 4,
   "metadata": {},
   "outputs": [
    {
     "data": {
      "text/plain": [
       "array(['00', '000', '0000', ..., 'ﾟﾍﾟ', 'ﾟﾟ__ー_ーoー_ー_メ', 'ﾟﾟﾟﾟ〆_メ__メ'],\n",
       "      dtype=object)"
      ]
     },
     "execution_count": 4,
     "metadata": {},
     "output_type": "execute_result"
    }
   ],
   "source": [
    "# computing TF/IDF vector for each file\n",
    "\n",
    "from sklearn.feature_extraction.text import TfidfVectorizer\n",
    "\n",
    "corpus = [pos, neg, tip]\n",
    "vectorizer = TfidfVectorizer()\n",
    "x = vectorizer.fit_transform(corpus)\n",
    "vectorizer.get_feature_names_out()"
   ]
  },
  {
   "cell_type": "code",
   "execution_count": null,
   "metadata": {},
   "outputs": [],
   "source": [
    "# listing words with highest TF/IDF score\n",
    "\n",
    "n = 10\n",
    "\n",
    "print('Positive words with highest TF/IDF score:')\n",
    "i_pos = np.flip(np.argsort(x[0, :].A)[0][-n:])\n",
    "pos_scores = np.flip(np.sort(x[0, :].A)[0][-n:])\n",
    "pos_words = vectorizer.get_feature_names_out()[i_pos]\n",
    "print(dict(zip(pos_words, pos_scores)))\n",
    "\n",
    "print('\\nNegative words with highest TF/IDF score:')\n",
    "i_neg = np.flip(np.argsort(x[1, :].A)[0][-n:])\n",
    "neg_scores = np.flip(np.sort(x[1, :].A)[0][-n:])\n",
    "neg_words = vectorizer.get_feature_names_out()[i_neg]\n",
    "print(dict(zip(neg_words, neg_scores)))\n",
    "\n",
    "print('\\nTip words with highest TF/IDF score:')\n",
    "i_tip = np.flip(np.argsort(x[2, :].A)[0][-n:])\n",
    "tip_scores = np.flip(np.sort(x[2, :].A)[0][-n:])\n",
    "tip_words = vectorizer.get_feature_names_out()[i_tip]\n",
    "print(dict(zip(tip_words, tip_scores)))"
   ]
  },
  {
   "cell_type": "code",
   "execution_count": null,
   "metadata": {},
   "outputs": [],
   "source": [
    "# generating word clouds w/ n words\n",
    "\n",
    "n = 50\n",
    "\n",
    "i_pos = np.flip(np.argsort(x[0, :].A)[0][-n:])\n",
    "pos_scores = np.flip(np.sort(x[0, :].A)[0][-n:])\n",
    "pos_words = vectorizer.get_feature_names_out()[i_pos]\n",
    "\n",
    "i_neg = np.flip(np.argsort(x[1, :].A)[0][-n:])\n",
    "neg_scores = np.flip(np.sort(x[1, :].A)[0][-n:])\n",
    "neg_words = vectorizer.get_feature_names_out()[i_neg]\n",
    "\n",
    "i_tip = np.flip(np.argsort(x[2, :].A)[0][-n:])\n",
    "tip_scores = np.flip(np.sort(x[2, :].A)[0][-n:])\n",
    "tip_words = vectorizer.get_feature_names_out()[i_tip]"
   ]
  },
  {
   "cell_type": "code",
   "execution_count": null,
   "metadata": {},
   "outputs": [],
   "source": [
    "# plotting word clouds\n",
    "\n",
    "import matplotlib.pyplot as plt\n",
    "from PIL import Image\n",
    "from wordcloud import WordCloud\n",
    "from os import path\n",
    "import PIL.ImageOps\n",
    "\n",
    "# circular mask\n",
    "i, j = np.ogrid[:1000, :1000]\n",
    "mask = (i-500)**2 + (j-500)**2 > 400**2\n",
    "mask = 255 * mask.astype(int)\n",
    "\n",
    "# positive wordcloud\n",
    "wordcloud = WordCloud(background_color=\"white\", width=2000, height=2000, scale=4, mask=mask)\n",
    "wordcloud.generate_from_frequencies(dict(zip(pos_words, pos_scores)))\n",
    "plt.figure(figsize=(5, 5))\n",
    "plt.imshow(wordcloud, interpolation=\"bilinear\")\n",
    "plt.title(\"Positive wordcloud\")\n",
    "plt.axis(\"off\")\n",
    "plt.show()\n",
    "\n",
    "# negative wordcloud\n",
    "wordcloud = WordCloud(background_color=\"white\", width=2000, height=2000, scale=4, mask=mask)\n",
    "wordcloud.generate_from_frequencies(dict(zip(neg_words, neg_scores)))\n",
    "plt.figure(figsize=(5, 5))\n",
    "plt.imshow(wordcloud, interpolation=\"bilinear\")\n",
    "plt.title(\"Negative wordcloud\")\n",
    "plt.axis(\"off\")\n",
    "plt.show()\n",
    "\n",
    "# tip wordcloud\n",
    "wordcloud = WordCloud(background_color=\"white\", width=2000, height=2000, scale=4, mask=mask)\n",
    "wordcloud.generate_from_frequencies(dict(zip(tip_words, tip_scores)))\n",
    "plt.figure(figsize=(5, 5))\n",
    "plt.imshow(wordcloud, interpolation=\"bilinear\")\n",
    "plt.title(\"Tip wordcloud\")\n",
    "plt.axis(\"off\")\n",
    "plt.show()"
   ]
  }
 ],
 "metadata": {
  "kernelspec": {
   "display_name": "Python 3.9.12 ('base')",
   "language": "python",
   "name": "python3"
  },
  "language_info": {
   "codemirror_mode": {
    "name": "ipython",
    "version": 3
   },
   "file_extension": ".py",
   "mimetype": "text/x-python",
   "name": "python",
   "nbconvert_exporter": "python",
   "pygments_lexer": "ipython3",
   "version": "3.9.12"
  },
  "orig_nbformat": 4,
  "vscode": {
   "interpreter": {
    "hash": "d58ea69fd4be483072a57c0f3d43c49afe88d95673704247309f5e6f4d8a2dae"
   }
  }
 },
 "nbformat": 4,
 "nbformat_minor": 2
}
