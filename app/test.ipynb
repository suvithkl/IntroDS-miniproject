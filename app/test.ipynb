{
 "cells": [
  {
   "cell_type": "code",
   "execution_count": 1,
   "metadata": {},
   "outputs": [
    {
     "ename": "AttributeError",
     "evalue": "'GeoDataFrame' object has no attribute 'explore'",
     "output_type": "error",
     "traceback": [
      "\u001b[1;31m---------------------------------------------------------------------------\u001b[0m",
      "\u001b[1;31mAttributeError\u001b[0m                            Traceback (most recent call last)",
      "\u001b[1;32mc:\\Users\\suvit\\OneDrive - University of Helsinki\\Documents\\IntroDS\\IntroDS-miniproject\\app\\test.ipynb Cell 1\u001b[0m in \u001b[0;36m<cell line: 7>\u001b[1;34m()\u001b[0m\n\u001b[0;32m      <a href='vscode-notebook-cell:/c%3A/Users/suvit/OneDrive%20-%20University%20of%20Helsinki/Documents/IntroDS/IntroDS-miniproject/app/test.ipynb#W0sZmlsZQ%3D%3D?line=3'>4</a>\u001b[0m world \u001b[39m=\u001b[39m gpd\u001b[39m.\u001b[39mread_file(gpd\u001b[39m.\u001b[39mdatasets\u001b[39m.\u001b[39mget_path(\u001b[39m'\u001b[39m\u001b[39mnaturalearth_lowres\u001b[39m\u001b[39m'\u001b[39m))\n\u001b[0;32m      <a href='vscode-notebook-cell:/c%3A/Users/suvit/OneDrive%20-%20University%20of%20Helsinki/Documents/IntroDS/IntroDS-miniproject/app/test.ipynb#W0sZmlsZQ%3D%3D?line=4'>5</a>\u001b[0m cities \u001b[39m=\u001b[39m gpd\u001b[39m.\u001b[39mread_file(gpd\u001b[39m.\u001b[39mdatasets\u001b[39m.\u001b[39mget_path(\u001b[39m'\u001b[39m\u001b[39mnaturalearth_cities\u001b[39m\u001b[39m'\u001b[39m))\n\u001b[1;32m----> <a href='vscode-notebook-cell:/c%3A/Users/suvit/OneDrive%20-%20University%20of%20Helsinki/Documents/IntroDS/IntroDS-miniproject/app/test.ipynb#W0sZmlsZQ%3D%3D?line=6'>7</a>\u001b[0m m \u001b[39m=\u001b[39m world\u001b[39m.\u001b[39;49mexplore(\n\u001b[0;32m      <a href='vscode-notebook-cell:/c%3A/Users/suvit/OneDrive%20-%20University%20of%20Helsinki/Documents/IntroDS/IntroDS-miniproject/app/test.ipynb#W0sZmlsZQ%3D%3D?line=7'>8</a>\u001b[0m     column\u001b[39m=\u001b[39m\u001b[39m\"\u001b[39m\u001b[39mpop_est\u001b[39m\u001b[39m\"\u001b[39m,  \u001b[39m# make choropleth based on \"BoroName\" column\u001b[39;00m\n\u001b[0;32m      <a href='vscode-notebook-cell:/c%3A/Users/suvit/OneDrive%20-%20University%20of%20Helsinki/Documents/IntroDS/IntroDS-miniproject/app/test.ipynb#W0sZmlsZQ%3D%3D?line=8'>9</a>\u001b[0m     scheme\u001b[39m=\u001b[39m\u001b[39m\"\u001b[39m\u001b[39mnaturalbreaks\u001b[39m\u001b[39m\"\u001b[39m,  \u001b[39m# use mapclassify's natural breaks scheme\u001b[39;00m\n\u001b[0;32m     <a href='vscode-notebook-cell:/c%3A/Users/suvit/OneDrive%20-%20University%20of%20Helsinki/Documents/IntroDS/IntroDS-miniproject/app/test.ipynb#W0sZmlsZQ%3D%3D?line=9'>10</a>\u001b[0m     legend\u001b[39m=\u001b[39m\u001b[39mTrue\u001b[39;00m, \u001b[39m# show legend\u001b[39;00m\n\u001b[0;32m     <a href='vscode-notebook-cell:/c%3A/Users/suvit/OneDrive%20-%20University%20of%20Helsinki/Documents/IntroDS/IntroDS-miniproject/app/test.ipynb#W0sZmlsZQ%3D%3D?line=10'>11</a>\u001b[0m     k\u001b[39m=\u001b[39m\u001b[39m10\u001b[39m, \u001b[39m# use 10 bins\u001b[39;00m\n\u001b[0;32m     <a href='vscode-notebook-cell:/c%3A/Users/suvit/OneDrive%20-%20University%20of%20Helsinki/Documents/IntroDS/IntroDS-miniproject/app/test.ipynb#W0sZmlsZQ%3D%3D?line=11'>12</a>\u001b[0m     legend_kwds\u001b[39m=\u001b[39m\u001b[39mdict\u001b[39m(colorbar\u001b[39m=\u001b[39m\u001b[39mFalse\u001b[39;00m), \u001b[39m# do not use colorbar\u001b[39;00m\n\u001b[0;32m     <a href='vscode-notebook-cell:/c%3A/Users/suvit/OneDrive%20-%20University%20of%20Helsinki/Documents/IntroDS/IntroDS-miniproject/app/test.ipynb#W0sZmlsZQ%3D%3D?line=12'>13</a>\u001b[0m     name\u001b[39m=\u001b[39m\u001b[39m\"\u001b[39m\u001b[39mcountries\u001b[39m\u001b[39m\"\u001b[39m \u001b[39m# name of the layer in the map\u001b[39;00m\n\u001b[0;32m     <a href='vscode-notebook-cell:/c%3A/Users/suvit/OneDrive%20-%20University%20of%20Helsinki/Documents/IntroDS/IntroDS-miniproject/app/test.ipynb#W0sZmlsZQ%3D%3D?line=13'>14</a>\u001b[0m )\n\u001b[0;32m     <a href='vscode-notebook-cell:/c%3A/Users/suvit/OneDrive%20-%20University%20of%20Helsinki/Documents/IntroDS/IntroDS-miniproject/app/test.ipynb#W0sZmlsZQ%3D%3D?line=15'>16</a>\u001b[0m cities\u001b[39m.\u001b[39mexplore(\n\u001b[0;32m     <a href='vscode-notebook-cell:/c%3A/Users/suvit/OneDrive%20-%20University%20of%20Helsinki/Documents/IntroDS/IntroDS-miniproject/app/test.ipynb#W0sZmlsZQ%3D%3D?line=16'>17</a>\u001b[0m     m\u001b[39m=\u001b[39mm, \u001b[39m# pass the map object\u001b[39;00m\n\u001b[0;32m     <a href='vscode-notebook-cell:/c%3A/Users/suvit/OneDrive%20-%20University%20of%20Helsinki/Documents/IntroDS/IntroDS-miniproject/app/test.ipynb#W0sZmlsZQ%3D%3D?line=17'>18</a>\u001b[0m     color\u001b[39m=\u001b[39m\u001b[39m\"\u001b[39m\u001b[39mred\u001b[39m\u001b[39m\"\u001b[39m, \u001b[39m# use red color on all points\u001b[39;00m\n\u001b[1;32m   (...)\u001b[0m\n\u001b[0;32m     <a href='vscode-notebook-cell:/c%3A/Users/suvit/OneDrive%20-%20University%20of%20Helsinki/Documents/IntroDS/IntroDS-miniproject/app/test.ipynb#W0sZmlsZQ%3D%3D?line=21'>22</a>\u001b[0m     name\u001b[39m=\u001b[39m\u001b[39m\"\u001b[39m\u001b[39mcities\u001b[39m\u001b[39m\"\u001b[39m \u001b[39m# name of the layer in the map\u001b[39;00m\n\u001b[0;32m     <a href='vscode-notebook-cell:/c%3A/Users/suvit/OneDrive%20-%20University%20of%20Helsinki/Documents/IntroDS/IntroDS-miniproject/app/test.ipynb#W0sZmlsZQ%3D%3D?line=22'>23</a>\u001b[0m )\n\u001b[0;32m     <a href='vscode-notebook-cell:/c%3A/Users/suvit/OneDrive%20-%20University%20of%20Helsinki/Documents/IntroDS/IntroDS-miniproject/app/test.ipynb#W0sZmlsZQ%3D%3D?line=24'>25</a>\u001b[0m folium\u001b[39m.\u001b[39mTileLayer(\u001b[39m'\u001b[39m\u001b[39mStamen Toner\u001b[39m\u001b[39m'\u001b[39m, control\u001b[39m=\u001b[39m\u001b[39mTrue\u001b[39;00m)\u001b[39m.\u001b[39madd_to(m)  \u001b[39m# use folium to add alternative tiles\u001b[39;00m\n",
      "File \u001b[1;32mc:\\Users\\suvit\\anaconda3\\envs\\interactive\\lib\\site-packages\\pandas\\core\\generic.py:5575\u001b[0m, in \u001b[0;36mNDFrame.__getattr__\u001b[1;34m(self, name)\u001b[0m\n\u001b[0;32m   5568\u001b[0m \u001b[39mif\u001b[39;00m (\n\u001b[0;32m   5569\u001b[0m     name \u001b[39mnot\u001b[39;00m \u001b[39min\u001b[39;00m \u001b[39mself\u001b[39m\u001b[39m.\u001b[39m_internal_names_set\n\u001b[0;32m   5570\u001b[0m     \u001b[39mand\u001b[39;00m name \u001b[39mnot\u001b[39;00m \u001b[39min\u001b[39;00m \u001b[39mself\u001b[39m\u001b[39m.\u001b[39m_metadata\n\u001b[0;32m   5571\u001b[0m     \u001b[39mand\u001b[39;00m name \u001b[39mnot\u001b[39;00m \u001b[39min\u001b[39;00m \u001b[39mself\u001b[39m\u001b[39m.\u001b[39m_accessors\n\u001b[0;32m   5572\u001b[0m     \u001b[39mand\u001b[39;00m \u001b[39mself\u001b[39m\u001b[39m.\u001b[39m_info_axis\u001b[39m.\u001b[39m_can_hold_identifiers_and_holds_name(name)\n\u001b[0;32m   5573\u001b[0m ):\n\u001b[0;32m   5574\u001b[0m     \u001b[39mreturn\u001b[39;00m \u001b[39mself\u001b[39m[name]\n\u001b[1;32m-> 5575\u001b[0m \u001b[39mreturn\u001b[39;00m \u001b[39mobject\u001b[39;49m\u001b[39m.\u001b[39;49m\u001b[39m__getattribute__\u001b[39;49m(\u001b[39mself\u001b[39;49m, name)\n",
      "\u001b[1;31mAttributeError\u001b[0m: 'GeoDataFrame' object has no attribute 'explore'"
     ]
    }
   ],
   "source": [
    "import geopandas as gpd\n",
    "import folium\n",
    "\n",
    "world = gpd.read_file(gpd.datasets.get_path('naturalearth_lowres'))\n",
    "cities = gpd.read_file(gpd.datasets.get_path('naturalearth_cities'))\n",
    "\n",
    "m = world.explore(\n",
    "    column=\"pop_est\",  # make choropleth based on \"BoroName\" column\n",
    "    scheme=\"naturalbreaks\",  # use mapclassify's natural breaks scheme\n",
    "    legend=True, # show legend\n",
    "    k=10, # use 10 bins\n",
    "    legend_kwds=dict(colorbar=False), # do not use colorbar\n",
    "    name=\"countries\" # name of the layer in the map\n",
    ")\n",
    "\n",
    "cities.explore(\n",
    "    m=m, # pass the map object\n",
    "    color=\"red\", # use red color on all points\n",
    "    marker_kwds=dict(radius=10, fill=True), # make marker radius 10px with fill\n",
    "    tooltip=\"name\", # show \"name\" column in the tooltip\n",
    "    tooltip_kwds=dict(labels=False), # do not show column label in the tooltip\n",
    "    name=\"cities\" # name of the layer in the map\n",
    ")\n",
    "\n",
    "folium.TileLayer('Stamen Toner', control=True).add_to(m)  # use folium to add alternative tiles\n",
    "folium.LayerControl().add_to(m)  # use folium to add layer control\n",
    "\n",
    "m  # show map"
   ]
  }
 ],
 "metadata": {
  "kernelspec": {
   "display_name": "Python 3.10.7 64-bit",
   "language": "python",
   "name": "python3"
  },
  "language_info": {
   "codemirror_mode": {
    "name": "ipython",
    "version": 3
   },
   "file_extension": ".py",
   "mimetype": "text/x-python",
   "name": "python",
   "nbconvert_exporter": "python",
   "pygments_lexer": "ipython3",
   "version": "3.10.7"
  },
  "orig_nbformat": 4,
  "vscode": {
   "interpreter": {
    "hash": "5eaf080904870a734a8c470db59db8d88366d38f57113f33fe3e9af6faba0185"
   }
  }
 },
 "nbformat": 4,
 "nbformat_minor": 2
}
