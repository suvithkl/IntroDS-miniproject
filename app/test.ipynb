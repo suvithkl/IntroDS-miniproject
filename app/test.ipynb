{
 "cells": [
  {
   "cell_type": "code",
   "execution_count": null,
   "metadata": {},
   "outputs": [],
   "source": [
    "import geopandas as gpd\n",
    "import folium\n",
    "\n",
    "world = gpd.read_file(gpd.datasets.get_path('naturalearth_lowres'))\n",
    "cities = gpd.read_file(gpd.datasets.get_path('naturalearth_cities'))\n",
    "\n",
    "m = world.explore(\n",
    "    column=\"pop_est\",  # make choropleth based on \"BoroName\" column\n",
    "    scheme=\"naturalbreaks\",  # use mapclassify's natural breaks scheme\n",
    "    legend=True, # show legend\n",
    "    k=10, # use 10 bins\n",
    "    legend_kwds=dict(colorbar=False), # do not use colorbar\n",
    "    name=\"countries\" # name of the layer in the map\n",
    ")\n",
    "\n",
    "cities.explore(\n",
    "    m=m, # pass the map object\n",
    "    color=\"red\", # use red color on all points\n",
    "    marker_kwds=dict(radius=10, fill=True), # make marker radius 10px with fill\n",
    "    tooltip=\"name\", # show \"name\" column in the tooltip\n",
    "    tooltip_kwds=dict(labels=False), # do not show column label in the tooltip\n",
    "    name=\"cities\" # name of the layer in the map\n",
    ")\n",
    "\n",
    "folium.TileLayer('Stamen Toner', control=True).add_to(m)  # use folium to add alternative tiles\n",
    "folium.LayerControl().add_to(m)  # use folium to add layer control\n",
    "\n",
    "m  # show map"
   ]
  }
 ],
 "metadata": {
  "kernelspec": {
   "display_name": "Python 3.9.13 ('interactive')",
   "language": "python",
   "name": "python3"
  },
  "language_info": {
   "codemirror_mode": {
    "name": "ipython",
    "version": 3
   },
   "file_extension": ".py",
   "mimetype": "text/x-python",
   "name": "python",
   "nbconvert_exporter": "python",
   "pygments_lexer": "ipython3",
   "version": "3.9.13"
  },
  "orig_nbformat": 4,
  "vscode": {
   "interpreter": {
    "hash": "1d52c945ab7eaa18687e1ff14173507ca985aa0e98ebb5e0dd37293b93f49853"
   }
  }
 },
 "nbformat": 4,
 "nbformat_minor": 2
}
