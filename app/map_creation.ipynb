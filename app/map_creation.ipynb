{
 "cells": [
  {
   "cell_type": "markdown",
   "metadata": {},
   "source": [
    "CREATING INTERACTIVE MAPS"
   ]
  },
  {
   "cell_type": "code",
   "execution_count": null,
   "metadata": {},
   "outputs": [],
   "source": [
    "# activities map\n",
    "\n",
    "import sys\n",
    "sys.path.append('C:/Users/reett/AppData/Local/conda/conda')\n",
    "\n",
    "import geopandas as gpd\n",
    "import folium\n",
    "import matplotlib\n",
    "import mapclassify\n",
    "import pandas as pd\n",
    "import shapely\n",
    "\n",
    "activities = pd.read_json('../filut/activities_business.json')\n",
    "\n",
    "gdf = gpd.GeoDataFrame(activities.drop(['latitude', 'longitude'], axis=1),\n",
    "                       crs={'init': 'epsg:4326'},\n",
    "                       geometry=[shapely.geometry.Point(xy)\n",
    "                                for xy in zip(activities.longitude, activities.latitude)])\n",
    "\n",
    "m = gdf.explore(\n",
    "    color=\"red\", # use red color on all points\n",
    "    marker_kwds=dict(radius=10, fill=True), # make marker radius 10px with fill\n",
    "    tooltip=[\"name\", \"stars\", \"attributes\", \"categories\"], # show \"name\" column in the tooltip\n",
    "    tooltip_kwds=dict(labels=False), # do not show column label in the tooltip\n",
    "    name=\"businesses\" # name of the layer in the map\n",
    ")\n",
    "\n",
    "folium.TileLayer('Stamen Toner', control=True).add_to(m)  # use folium to add alternative tiles\n",
    "folium.LayerControl().add_to(m)  # use folium to add layer control\n",
    "\n",
    "m  # show map\n",
    "\n",
    "#m.save('activities_map.html')"
   ]
  },
  {
   "cell_type": "code",
   "execution_count": null,
   "metadata": {},
   "outputs": [],
   "source": [
    "# beauty map\n",
    "\n",
    "beauty = pd.read_json('../filut/beauty_business.json')\n",
    "\n",
    "gdf = gpd.GeoDataFrame(beauty.drop(['latitude', 'longitude'], axis=1),\n",
    "                       crs={'init': 'epsg:4326'},\n",
    "                       geometry=[shapely.geometry.Point(xy)\n",
    "                                for xy in zip(beauty.longitude, beauty.latitude)])\n",
    "\n",
    "m = gdf.explore(\n",
    "    color=\"red\", # use red color on all points\n",
    "    marker_kwds=dict(radius=10, fill=True), # make marker radius 10px with fill\n",
    "    tooltip=[\"name\", \"stars\", \"attributes\", \"categories\"], # show \"name\" column in the tooltip\n",
    "    tooltip_kwds=dict(labels=False), # do not show column label in the tooltip\n",
    "    name=\"businesses\" # name of the layer in the map\n",
    ")\n",
    "\n",
    "folium.TileLayer('Stamen Toner', control=True).add_to(m)  # use folium to add alternative tiles\n",
    "folium.LayerControl().add_to(m)  # use folium to add layer control\n",
    "\n",
    "m  # show map\n",
    "\n",
    "#m.save('beauty_map.html')"
   ]
  },
  {
   "cell_type": "code",
   "execution_count": null,
   "metadata": {},
   "outputs": [],
   "source": []
  }
 ],
 "metadata": {
  "kernelspec": {
   "display_name": "Python 3.10.6 ('geo_env')",
   "language": "python",
   "name": "python3"
  },
  "language_info": {
   "codemirror_mode": {
    "name": "ipython",
    "version": 3
   },
   "file_extension": ".py",
   "mimetype": "text/x-python",
   "name": "python",
   "nbconvert_exporter": "python",
   "pygments_lexer": "ipython3",
   "version": "3.10.6"
  },
  "orig_nbformat": 4,
  "vscode": {
   "interpreter": {
    "hash": "c76bf57a4b41a1a61e5c7f08bb92b2bbf64ea14fc044a81ce348d89cc762bbd1"
   }
  }
 },
 "nbformat": 4,
 "nbformat_minor": 2
}
