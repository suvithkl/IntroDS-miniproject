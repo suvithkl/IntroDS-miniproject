{
 "cells": [
  {
   "cell_type": "markdown",
   "metadata": {},
   "source": [
    "CREATING INTERACTIVE MAPS"
   ]
  },
  {
   "cell_type": "code",
   "execution_count": null,
   "metadata": {},
   "outputs": [],
   "source": [
    "# activities map\n",
    "\n",
    "import sys\n",
    "sys.path.append('C:/Users/reett/AppData/Local/conda/conda')\n",
    "\n",
    "import geopandas as gpd\n",
    "import folium\n",
    "import matplotlib\n",
    "import mapclassify\n",
    "import pandas as pd\n",
    "import shapely\n",
    "\n",
    "world = gpd.read_file(gpd.datasets.get_path('naturalearth_lowres'))\n",
    "cities = gpd.read_file(gpd.datasets.get_path('naturalearth_cities'))\n",
    "\n",
    "activities = pd.read_json('../filut/activities_review.json')\n",
    "\n",
    "gdf = gpd.GeoDataFrame(activities.drop(['latitude', 'longitude'], axis=1),\n",
    "                       crs={'init': 'epsg:4326'},\n",
    "                       geometry=[shapely.geometry.Point(xy)\n",
    "                                for xy in zip(activities.longitude, activities.latitude)])\n",
    "\n",
    "m = world.explore(\n",
    "    column=\"pop_est\",  # make choropleth based on \"BoroName\" column\n",
    "    scheme=\"naturalbreaks\",  # use mapclassify's natural breaks scheme\n",
    "    legend=True, # show legend\n",
    "    k=10, # use 10 bins\n",
    "    legend_kwds=dict(colorbar=False), # do not use colorbar\n",
    "    name=\"countries\" # name of the layer in the map\n",
    ")\n",
    "\n",
    "cities.explore(\n",
    "    m=m, # pass the map object\n",
    "    color=\"red\", # use red color on all points\n",
    "    marker_kwds=dict(radius=10, fill=True), # make marker radius 10px with fill\n",
    "    tooltip=\"name\", # show \"name\" column in the tooltip\n",
    "    tooltip_kwds=dict(labels=False), # do not show column label in the tooltip\n",
    "    name=\"cities\" # name of the layer in the map\n",
    ")\n",
    "\n",
    "folium.TileLayer('Stamen Toner', control=True).add_to(m)  # use folium to add alternative tiles\n",
    "folium.LayerControl().add_to(m)  # use folium to add layer control\n",
    "\n",
    "m  # show map\n",
    "\n",
    "m.save('activities_map.html')"
   ]
  },
  {
   "cell_type": "code",
   "execution_count": null,
   "metadata": {},
   "outputs": [],
   "source": [
    "# beauty map"
   ]
  }
 ],
 "metadata": {
  "kernelspec": {
   "display_name": "Python 3.10.7 64-bit",
   "language": "python",
   "name": "python3"
  },
  "language_info": {
   "name": "python",
   "version": "3.10.7"
  },
  "orig_nbformat": 4,
  "vscode": {
   "interpreter": {
    "hash": "5eaf080904870a734a8c470db59db8d88366d38f57113f33fe3e9af6faba0185"
   }
  }
 },
 "nbformat": 4,
 "nbformat_minor": 2
}
