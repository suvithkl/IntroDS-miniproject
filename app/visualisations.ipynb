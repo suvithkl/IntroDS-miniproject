{
 "cells": [
  {
   "cell_type": "markdown",
   "metadata": {},
   "source": [
    "CREATING VISUALISATIONS (FOR THE APP)"
   ]
  },
  {
   "cell_type": "code",
   "execution_count": 12,
   "metadata": {},
   "outputs": [],
   "source": [
    "# initialisations\n",
    "\n",
    "import pandas as pd\n",
    "\n",
    "# when running, change to own local paths\n",
    "activities_review = pd.read_json('../categories/activities_review.json')\n",
    "beauty_review = pd.read_json('../categories/beauty_review.json')\n",
    "food_review = pd.read_json('../categories/food_review.json')\n",
    "health_review = pd.read_json('../categories/health_review.json')\n",
    "nightlife_review = pd.read_json('../categories/nightlife_review.json')\n",
    "pets_review = pd.read_json('../categories/pets_review.json')\n",
    "services_review = pd.read_json('../categories/services_review.json')\n",
    "stores_review = pd.read_json('../categories/stores_review.json')\n",
    "\n",
    "activities = (' '.join(activities_review['text'].dropna()))\n",
    "beauty = (' '.join(beauty_review['text'].dropna()))\n",
    "food = (' '.join(food_review['text'].dropna()))\n",
    "health = (' '.join(health_review['text'].dropna()))\n",
    "nightlife = (' '.join(nightlife_review['text'].dropna()))\n",
    "pets = (' '.join(pets_review['text'].dropna()))\n",
    "services = (' '.join(services_review['text'].dropna()))\n",
    "stores = (' '.join(stores_review['text'].dropna()))\n",
    "\n",
    "# comparison list for corpus\n",
    "all = ' '.join([activities, beauty, food, health, nightlife, pets, services, stores])\n",
    "\n",
    "# number of words\n",
    "n = 50"
   ]
  },
  {
   "cell_type": "code",
   "execution_count": 14,
   "metadata": {},
   "outputs": [],
   "source": [
    "# generating and plotting word clouds w/ n words\n",
    "\n",
    "from sklearn.feature_extraction.text import TfidfVectorizer\n",
    "import numpy as np\n",
    "import matplotlib.pyplot as plt\n",
    "from PIL import Image\n",
    "from wordcloud import WordCloud\n",
    "from os import path\n",
    "import PIL.ImageOps\n",
    "\n",
    "def generate_wordcloud(category):\n",
    "    corpus = [category, all]\n",
    "    vectorizer = TfidfVectorizer()\n",
    "    x = vectorizer.fit_transform(corpus)\n",
    "    vectorizer.get_feature_names_out()\n",
    "\n",
    "    i = np.flip(np.argsort(x[0, :].A)[0][-n:])\n",
    "    scores = np.flip(np.sort(x[0, :].A)[0][-n:])\n",
    "    words = vectorizer.get_feature_names_out()[i]\n",
    "\n",
    "    # circular mask\n",
    "    j, k = np.ogrid[:1000, :1000]\n",
    "    mask = (j-500)**2 + (k-500)**2 > 400**2\n",
    "    mask = 255 * mask.astype(int)\n",
    "\n",
    "    wordcloud = WordCloud(background_color=\"white\", width=2000, height=2000, scale=4, mask=mask)\n",
    "    wordcloud.generate_from_frequencies(dict(zip(words, scores)))\n",
    "    plt.figure(figsize=(5, 5))\n",
    "    plt.imshow(wordcloud, interpolation=\"bilinear\")\n",
    "    plt.title(category, \" wordcloud\")\n",
    "    plt.axis(\"off\")\n",
    "    plt.show()"
   ]
  },
  {
   "cell_type": "code",
   "execution_count": null,
   "metadata": {},
   "outputs": [],
   "source": [
    "# activities wordcloud\n",
    "\n",
    "generate_wordcloud(activities)"
   ]
  },
  {
   "cell_type": "code",
   "execution_count": null,
   "metadata": {},
   "outputs": [],
   "source": [
    "# beauty wordcloud\n",
    "\n",
    "generate_wordcloud(beauty)"
   ]
  },
  {
   "cell_type": "code",
   "execution_count": null,
   "metadata": {},
   "outputs": [],
   "source": [
    "# food wordcloud\n",
    "\n",
    "generate_wordcloud(food)"
   ]
  },
  {
   "cell_type": "code",
   "execution_count": null,
   "metadata": {},
   "outputs": [],
   "source": [
    "# health wordcloud\n",
    "\n",
    "generate_wordcloud(health)"
   ]
  },
  {
   "cell_type": "code",
   "execution_count": null,
   "metadata": {},
   "outputs": [],
   "source": [
    "# nightlife wordcloud\n",
    "\n",
    "generate_wordcloud(nightlife)"
   ]
  },
  {
   "cell_type": "code",
   "execution_count": null,
   "metadata": {},
   "outputs": [],
   "source": [
    "# pets wordcloud\n",
    "\n",
    "generate_wordcloud(pets)"
   ]
  },
  {
   "cell_type": "code",
   "execution_count": null,
   "metadata": {},
   "outputs": [],
   "source": [
    "# services wordcloud\n",
    "\n",
    "generate_wordcloud(services)"
   ]
  },
  {
   "cell_type": "code",
   "execution_count": null,
   "metadata": {},
   "outputs": [],
   "source": [
    "# stores wordcloud\n",
    "\n",
    "generate_wordcloud(stores)"
   ]
  },
  {
   "cell_type": "markdown",
   "metadata": {},
   "source": [
    "GRAPHS"
   ]
  },
  {
   "cell_type": "code",
   "execution_count": null,
   "metadata": {},
   "outputs": [],
   "source": [
    "# positive reviews in relation to given stars\n"
   ]
  }
 ],
 "metadata": {
  "kernelspec": {
   "display_name": "Python 3.9.12 ('base')",
   "language": "python",
   "name": "python3"
  },
  "language_info": {
   "codemirror_mode": {
    "name": "ipython",
    "version": 3
   },
   "file_extension": ".py",
   "mimetype": "text/x-python",
   "name": "python",
   "nbconvert_exporter": "python",
   "pygments_lexer": "ipython3",
   "version": "3.9.12"
  },
  "orig_nbformat": 4,
  "vscode": {
   "interpreter": {
    "hash": "d58ea69fd4be483072a57c0f3d43c49afe88d95673704247309f5e6f4d8a2dae"
   }
  }
 },
 "nbformat": 4,
 "nbformat_minor": 2
}
